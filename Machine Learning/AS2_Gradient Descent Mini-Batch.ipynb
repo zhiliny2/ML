{
 "cells": [
  {
   "attachments": {},
   "cell_type": "markdown",
   "metadata": {},
   "source": [
    "# AS2--Gradient Descent\n",
    "\n",
    "Richard Yang"
   ]
  },
  {
   "attachments": {},
   "cell_type": "markdown",
   "metadata": {},
   "source": [
    "### Part A: Data Cleaning"
   ]
  },
  {
   "cell_type": "code",
   "execution_count": 3,
   "metadata": {},
   "outputs": [
    {
     "name": "stderr",
     "output_type": "stream",
     "text": [
      "C:\\Users\\Richa\\AppData\\Local\\Temp\\ipykernel_22924\\1533238905.py:6: DtypeWarning: Columns (47,73) have mixed types. Specify dtype option on import or set low_memory=False.\n",
      "  df = pd.read_csv('bottle.csv')\n"
     ]
    },
    {
     "data": {
      "text/html": [
       "<div>\n",
       "<style scoped>\n",
       "    .dataframe tbody tr th:only-of-type {\n",
       "        vertical-align: middle;\n",
       "    }\n",
       "\n",
       "    .dataframe tbody tr th {\n",
       "        vertical-align: top;\n",
       "    }\n",
       "\n",
       "    .dataframe thead th {\n",
       "        text-align: right;\n",
       "    }\n",
       "</style>\n",
       "<table border=\"1\" class=\"dataframe\">\n",
       "  <thead>\n",
       "    <tr style=\"text-align: right;\">\n",
       "      <th></th>\n",
       "      <th>Cst_Cnt</th>\n",
       "      <th>Btl_Cnt</th>\n",
       "      <th>Sta_ID</th>\n",
       "      <th>Depth_ID</th>\n",
       "      <th>Depthm</th>\n",
       "      <th>T_degC</th>\n",
       "      <th>Salnty</th>\n",
       "      <th>O2ml_L</th>\n",
       "      <th>STheta</th>\n",
       "      <th>O2Sat</th>\n",
       "      <th>...</th>\n",
       "      <th>R_PHAEO</th>\n",
       "      <th>R_PRES</th>\n",
       "      <th>R_SAMP</th>\n",
       "      <th>DIC1</th>\n",
       "      <th>DIC2</th>\n",
       "      <th>TA1</th>\n",
       "      <th>TA2</th>\n",
       "      <th>pH2</th>\n",
       "      <th>pH1</th>\n",
       "      <th>DIC Quality Comment</th>\n",
       "    </tr>\n",
       "  </thead>\n",
       "  <tbody>\n",
       "    <tr>\n",
       "      <th>0</th>\n",
       "      <td>1</td>\n",
       "      <td>1</td>\n",
       "      <td>054.0 056.0</td>\n",
       "      <td>19-4903CR-HY-060-0930-05400560-0000A-3</td>\n",
       "      <td>0</td>\n",
       "      <td>10.50</td>\n",
       "      <td>33.440</td>\n",
       "      <td>NaN</td>\n",
       "      <td>25.649</td>\n",
       "      <td>NaN</td>\n",
       "      <td>...</td>\n",
       "      <td>NaN</td>\n",
       "      <td>0</td>\n",
       "      <td>NaN</td>\n",
       "      <td>NaN</td>\n",
       "      <td>NaN</td>\n",
       "      <td>NaN</td>\n",
       "      <td>NaN</td>\n",
       "      <td>NaN</td>\n",
       "      <td>NaN</td>\n",
       "      <td>NaN</td>\n",
       "    </tr>\n",
       "    <tr>\n",
       "      <th>1</th>\n",
       "      <td>1</td>\n",
       "      <td>2</td>\n",
       "      <td>054.0 056.0</td>\n",
       "      <td>19-4903CR-HY-060-0930-05400560-0008A-3</td>\n",
       "      <td>8</td>\n",
       "      <td>10.46</td>\n",
       "      <td>33.440</td>\n",
       "      <td>NaN</td>\n",
       "      <td>25.656</td>\n",
       "      <td>NaN</td>\n",
       "      <td>...</td>\n",
       "      <td>NaN</td>\n",
       "      <td>8</td>\n",
       "      <td>NaN</td>\n",
       "      <td>NaN</td>\n",
       "      <td>NaN</td>\n",
       "      <td>NaN</td>\n",
       "      <td>NaN</td>\n",
       "      <td>NaN</td>\n",
       "      <td>NaN</td>\n",
       "      <td>NaN</td>\n",
       "    </tr>\n",
       "    <tr>\n",
       "      <th>2</th>\n",
       "      <td>1</td>\n",
       "      <td>3</td>\n",
       "      <td>054.0 056.0</td>\n",
       "      <td>19-4903CR-HY-060-0930-05400560-0010A-7</td>\n",
       "      <td>10</td>\n",
       "      <td>10.46</td>\n",
       "      <td>33.437</td>\n",
       "      <td>NaN</td>\n",
       "      <td>25.654</td>\n",
       "      <td>NaN</td>\n",
       "      <td>...</td>\n",
       "      <td>NaN</td>\n",
       "      <td>10</td>\n",
       "      <td>NaN</td>\n",
       "      <td>NaN</td>\n",
       "      <td>NaN</td>\n",
       "      <td>NaN</td>\n",
       "      <td>NaN</td>\n",
       "      <td>NaN</td>\n",
       "      <td>NaN</td>\n",
       "      <td>NaN</td>\n",
       "    </tr>\n",
       "  </tbody>\n",
       "</table>\n",
       "<p>3 rows × 74 columns</p>\n",
       "</div>"
      ],
      "text/plain": [
       "   Cst_Cnt  Btl_Cnt       Sta_ID                                Depth_ID  \\\n",
       "0        1        1  054.0 056.0  19-4903CR-HY-060-0930-05400560-0000A-3   \n",
       "1        1        2  054.0 056.0  19-4903CR-HY-060-0930-05400560-0008A-3   \n",
       "2        1        3  054.0 056.0  19-4903CR-HY-060-0930-05400560-0010A-7   \n",
       "\n",
       "   Depthm  T_degC  Salnty  O2ml_L  STheta  O2Sat  ...  R_PHAEO  R_PRES  \\\n",
       "0       0   10.50  33.440     NaN  25.649    NaN  ...      NaN       0   \n",
       "1       8   10.46  33.440     NaN  25.656    NaN  ...      NaN       8   \n",
       "2      10   10.46  33.437     NaN  25.654    NaN  ...      NaN      10   \n",
       "\n",
       "   R_SAMP  DIC1  DIC2  TA1  TA2  pH2  pH1  DIC Quality Comment  \n",
       "0     NaN   NaN   NaN  NaN  NaN  NaN  NaN                  NaN  \n",
       "1     NaN   NaN   NaN  NaN  NaN  NaN  NaN                  NaN  \n",
       "2     NaN   NaN   NaN  NaN  NaN  NaN  NaN                  NaN  \n",
       "\n",
       "[3 rows x 74 columns]"
      ]
     },
     "execution_count": 3,
     "metadata": {},
     "output_type": "execute_result"
    }
   ],
   "source": [
    "import pandas as pd\n",
    "import numpy as np\n",
    "import matplotlib.pyplot as plt\n",
    "# Read the data\n",
    "\n",
    "df = pd.read_csv('bottle.csv')\n",
    "df.head(3)"
   ]
  },
  {
   "cell_type": "code",
   "execution_count": 76,
   "metadata": {},
   "outputs": [
    {
     "name": "stdout",
     "output_type": "stream",
     "text": [
      "(661268, 5)\n"
     ]
    },
    {
     "name": "stderr",
     "output_type": "stream",
     "text": [
      "C:\\Users\\Richa\\AppData\\Local\\Temp\\ipykernel_23540\\2510290537.py:4: SettingWithCopyWarning: \n",
      "A value is trying to be set on a copy of a slice from a DataFrame\n",
      "\n",
      "See the caveats in the documentation: https://pandas.pydata.org/pandas-docs/stable/user_guide/indexing.html#returning-a-view-versus-a-copy\n",
      "  df.dropna(inplace=True)\n"
     ]
    }
   ],
   "source": [
    "#2 \n",
    "columns = ['T_degC', 'Salnty', 'STheta','O2ml_L','Depthm']\n",
    "df = df[columns]\n",
    "df.dropna(inplace=True)\n",
    "\n",
    "print(df.shape)"
   ]
  },
  {
   "cell_type": "code",
   "execution_count": 77,
   "metadata": {},
   "outputs": [
    {
     "data": {
      "text/html": [
       "<div>\n",
       "<style scoped>\n",
       "    .dataframe tbody tr th:only-of-type {\n",
       "        vertical-align: middle;\n",
       "    }\n",
       "\n",
       "    .dataframe tbody tr th {\n",
       "        vertical-align: top;\n",
       "    }\n",
       "\n",
       "    .dataframe thead th {\n",
       "        text-align: right;\n",
       "    }\n",
       "</style>\n",
       "<table border=\"1\" class=\"dataframe\">\n",
       "  <thead>\n",
       "    <tr style=\"text-align: right;\">\n",
       "      <th></th>\n",
       "      <th>T_degC</th>\n",
       "      <th>Salnty</th>\n",
       "      <th>STheta</th>\n",
       "      <th>O2ml_L</th>\n",
       "      <th>Depthm</th>\n",
       "    </tr>\n",
       "  </thead>\n",
       "  <tbody>\n",
       "    <tr>\n",
       "      <th>2160</th>\n",
       "      <td>10.30</td>\n",
       "      <td>33.030</td>\n",
       "      <td>25.364</td>\n",
       "      <td>5.90</td>\n",
       "      <td>0</td>\n",
       "    </tr>\n",
       "    <tr>\n",
       "      <th>2161</th>\n",
       "      <td>18.46</td>\n",
       "      <td>32.920</td>\n",
       "      <td>23.568</td>\n",
       "      <td>6.02</td>\n",
       "      <td>6</td>\n",
       "    </tr>\n",
       "    <tr>\n",
       "      <th>2162</th>\n",
       "      <td>10.29</td>\n",
       "      <td>32.951</td>\n",
       "      <td>25.304</td>\n",
       "      <td>6.04</td>\n",
       "      <td>10</td>\n",
       "    </tr>\n",
       "    <tr>\n",
       "      <th>2163</th>\n",
       "      <td>10.29</td>\n",
       "      <td>32.990</td>\n",
       "      <td>25.335</td>\n",
       "      <td>6.06</td>\n",
       "      <td>15</td>\n",
       "    </tr>\n",
       "    <tr>\n",
       "      <th>2164</th>\n",
       "      <td>10.33</td>\n",
       "      <td>33.005</td>\n",
       "      <td>25.339</td>\n",
       "      <td>6.04</td>\n",
       "      <td>20</td>\n",
       "    </tr>\n",
       "  </tbody>\n",
       "</table>\n",
       "</div>"
      ],
      "text/plain": [
       "      T_degC  Salnty  STheta  O2ml_L  Depthm\n",
       "2160   10.30  33.030  25.364    5.90       0\n",
       "2161   18.46  32.920  23.568    6.02       6\n",
       "2162   10.29  32.951  25.304    6.04      10\n",
       "2163   10.29  32.990  25.335    6.06      15\n",
       "2164   10.33  33.005  25.339    6.04      20"
      ]
     },
     "execution_count": 77,
     "metadata": {},
     "output_type": "execute_result"
    }
   ],
   "source": [
    "df.head()"
   ]
  },
  {
   "cell_type": "code",
   "execution_count": 78,
   "metadata": {},
   "outputs": [
    {
     "data": {
      "image/png": "[encoded data removed]",
      "text/plain": [
       "<Figure size 640x480 with 1 Axes>"
      ]
     },
     "metadata": {},
     "output_type": "display_data"
    }
   ],
   "source": [
    "#3\n",
    "\n",
    "import matplotlib.pyplot as plt\n",
    "\n",
    "plt.scatter(df['STheta'], df['T_degC'])\n",
    "plt.title('Density vs Temperature')\n",
    "plt.xlabel('Density')\n",
    "plt.ylabel('Temperature')\n",
    "plt.show()\n",
    "\n"
   ]
  },
  {
   "cell_type": "markdown",
   "metadata": {},
   "source": [
    "As we can see from the plot, the outliers have been removed\n"
   ]
  },
  {
   "cell_type": "code",
   "execution_count": 79,
   "metadata": {},
   "outputs": [
    {
     "data": {
      "text/plain": [
       "(661268, 5)"
      ]
     },
     "execution_count": 79,
     "metadata": {},
     "output_type": "execute_result"
    }
   ],
   "source": [
    "df = df[df['STheta'] < 200]\n",
    "df.shape"
   ]
  },
  {
   "cell_type": "markdown",
   "metadata": {},
   "source": [
    "## Part B: Train / Test Split & Scaling"
   ]
  },
  {
   "cell_type": "code",
   "execution_count": 80,
   "metadata": {},
   "outputs": [
    {
     "data": {
      "text/plain": [
       "((529014, 4), (132254, 4), (529014,), (132254,))"
      ]
     },
     "execution_count": 80,
     "metadata": {},
     "output_type": "execute_result"
    }
   ],
   "source": [
    "import sklearn\n",
    "from sklearn.model_selection import train_test_split\n",
    "\n",
    "X = df[columns].drop('T_degC', axis=1)\n",
    "y = df['T_degC']\n",
    "\n",
    "X_train, X_test, y_train, y_test = train_test_split(X, y, test_size = 0.20, random_state = 0)\n",
    "X_train.shape, X_test.shape, y_train.shape, y_test.shape"
   ]
  },
  {
   "cell_type": "code",
   "execution_count": 81,
   "metadata": {},
   "outputs": [
    {
     "data": {
      "text/html": [
       "<div>\n",
       "<style scoped>\n",
       "    .dataframe tbody tr th:only-of-type {\n",
       "        vertical-align: middle;\n",
       "    }\n",
       "\n",
       "    .dataframe tbody tr th {\n",
       "        vertical-align: top;\n",
       "    }\n",
       "\n",
       "    .dataframe thead th {\n",
       "        text-align: right;\n",
       "    }\n",
       "</style>\n",
       "<table border=\"1\" class=\"dataframe\">\n",
       "  <thead>\n",
       "    <tr style=\"text-align: right;\">\n",
       "      <th></th>\n",
       "      <th>Salnty</th>\n",
       "      <th>STheta</th>\n",
       "      <th>O2ml_L</th>\n",
       "      <th>Depthm</th>\n",
       "    </tr>\n",
       "  </thead>\n",
       "  <tbody>\n",
       "    <tr>\n",
       "      <th>37089</th>\n",
       "      <td>33.490</td>\n",
       "      <td>25.154</td>\n",
       "      <td>6.10</td>\n",
       "      <td>9</td>\n",
       "    </tr>\n",
       "    <tr>\n",
       "      <th>372192</th>\n",
       "      <td>34.069</td>\n",
       "      <td>26.593</td>\n",
       "      <td>2.26</td>\n",
       "      <td>250</td>\n",
       "    </tr>\n",
       "    <tr>\n",
       "      <th>592472</th>\n",
       "      <td>33.723</td>\n",
       "      <td>25.837</td>\n",
       "      <td>3.47</td>\n",
       "      <td>125</td>\n",
       "    </tr>\n",
       "    <tr>\n",
       "      <th>801370</th>\n",
       "      <td>33.451</td>\n",
       "      <td>25.620</td>\n",
       "      <td>4.43</td>\n",
       "      <td>100</td>\n",
       "    </tr>\n",
       "    <tr>\n",
       "      <th>789777</th>\n",
       "      <td>33.690</td>\n",
       "      <td>24.290</td>\n",
       "      <td>6.39</td>\n",
       "      <td>11</td>\n",
       "    </tr>\n",
       "  </tbody>\n",
       "</table>\n",
       "</div>"
      ],
      "text/plain": [
       "        Salnty  STheta  O2ml_L  Depthm\n",
       "37089   33.490  25.154    6.10       9\n",
       "372192  34.069  26.593    2.26     250\n",
       "592472  33.723  25.837    3.47     125\n",
       "801370  33.451  25.620    4.43     100\n",
       "789777  33.690  24.290    6.39      11"
      ]
     },
     "execution_count": 81,
     "metadata": {},
     "output_type": "execute_result"
    }
   ],
   "source": [
    "X_train.head()\n"
   ]
  },
  {
   "cell_type": "code",
   "execution_count": 82,
   "metadata": {},
   "outputs": [
    {
     "data": {
      "text/plain": [
       "((132254, 4), (529014, 4))"
      ]
     },
     "execution_count": 82,
     "metadata": {},
     "output_type": "execute_result"
    }
   ],
   "source": [
    "# Use StandardScaler to scale the data\n",
    "\n",
    "from sklearn.preprocessing import StandardScaler\n",
    "\n",
    "scaler = StandardScaler()\n",
    "\n",
    "X_train_scaled = scaler.fit_transform(X_train)\n",
    "\n",
    "X_test_scaled = scaler.transform(X_test)\n",
    "\n",
    "X_test_scaled.shape, X_train_scaled.shape"
   ]
  },
  {
   "cell_type": "markdown",
   "metadata": {},
   "source": [
    "## Part C: Linear Regression with sklearn\n",
    "\n"
   ]
  },
  {
   "cell_type": "code",
   "execution_count": 83,
   "metadata": {},
   "outputs": [
    {
     "name": "stdout",
     "output_type": "stream",
     "text": [
      "10.914783098367892\n",
      "[ 1.63043136 -4.63255939  0.30116055 -0.47546539]\n"
     ]
    },
    {
     "data": {
      "text/html": [
       "<div>\n",
       "<style scoped>\n",
       "    .dataframe tbody tr th:only-of-type {\n",
       "        vertical-align: middle;\n",
       "    }\n",
       "\n",
       "    .dataframe tbody tr th {\n",
       "        vertical-align: top;\n",
       "    }\n",
       "\n",
       "    .dataframe thead th {\n",
       "        text-align: right;\n",
       "    }\n",
       "</style>\n",
       "<table border=\"1\" class=\"dataframe\">\n",
       "  <thead>\n",
       "    <tr style=\"text-align: right;\">\n",
       "      <th></th>\n",
       "      <th>MSE</th>\n",
       "      <th>R2</th>\n",
       "      <th>Var</th>\n",
       "    </tr>\n",
       "  </thead>\n",
       "  <tbody>\n",
       "    <tr>\n",
       "      <th>0</th>\n",
       "      <td>0.110191</td>\n",
       "      <td>0.993829</td>\n",
       "      <td>0.993829</td>\n",
       "    </tr>\n",
       "  </tbody>\n",
       "</table>\n",
       "</div>"
      ],
      "text/plain": [
       "        MSE        R2       Var\n",
       "0  0.110191  0.993829  0.993829"
      ]
     },
     "execution_count": 83,
     "metadata": {},
     "output_type": "execute_result"
    }
   ],
   "source": [
    "# 1) Create an instance of the LinearRegression class called \"lin_reg\". Fit lin_reg using X_train_scaled & y_train.\n",
    "\n",
    "from sklearn.linear_model import LinearRegression\n",
    "\n",
    "lin_reg = LinearRegression()\n",
    "\n",
    "lin_reg.fit(X_train_scaled, y_train)\n",
    "\n",
    "#2) Print out the coefficients (including the intercept)\n",
    "\n",
    "print(lin_reg.intercept_)\n",
    "\n",
    "print(lin_reg.coef_)\n",
    "\n",
    "# 3) Predict T_degC for the test data using lin_reg. Make sure to use X_test_scaled! Call predictions y_pred_mgd\n",
    "\n",
    "y_pred_sklearn = lin_reg.predict(X_test_scaled)\n",
    "\n",
    "# 4）Calculate metrics\n",
    "\n",
    "from sklearn.metrics import mean_squared_error, r2_score,explained_variance_score\n",
    "\n",
    "MSE = mean_squared_error(y_test, y_pred_sklearn)\n",
    "R2 = r2_score(y_test, y_pred_sklearn)\n",
    "Var = explained_variance_score(y_test, y_pred_sklearn)\n",
    "dict = {'MSE': [MSE], 'R2': [R2], 'Var': [Var]}\n",
    "dfdict = pd.DataFrame(dict)\n",
    "dfdict"
   ]
  },
  {
   "cell_type": "code",
   "execution_count": 84,
   "metadata": {},
   "outputs": [
    {
     "data": {
      "image/png": "[encoded data removed]",
      "text/plain": [
       "<Figure size 640x480 with 1 Axes>"
      ]
     },
     "metadata": {},
     "output_type": "display_data"
    }
   ],
   "source": [
    "# 5) Create a scatterplot that shows actual versus predicted values for the T_degC\n",
    "\n",
    "plt.scatter(y_test, y_pred_sklearn)\n",
    "\n",
    "plt.title('Actual vs Predicted T_degC')\n",
    "\n",
    "plt.xlabel('Actual T_degC')\n",
    "\n",
    "plt.ylabel('Predicted T_degC')\n",
    "\n",
    "plt.show()"
   ]
  },
  {
   "cell_type": "markdown",
   "metadata": {},
   "source": [
    "## Part D: Gradient Descent Mini-Batch\n",
    "\n",
    "Please make sure you are using Mini-Batch! Perform the following six steps for mini-batch sizes of: 50, 250, & 2000. Save all outputs"
   ]
  },
  {
   "cell_type": "code",
   "execution_count": 85,
   "metadata": {},
   "outputs": [
    {
     "data": {
      "text/plain": [
       "((529014, 5), (132254, 5))"
      ]
     },
     "execution_count": 85,
     "metadata": {},
     "output_type": "execute_result"
    }
   ],
   "source": [
    "# add a column of 1s to X_train_scaled and X_test_scaled.\n",
    "import numpy as np\n",
    "from sklearn.preprocessing import add_dummy_feature\n",
    "\n",
    "X_train_scaled= add_dummy_feature(X_train_scaled)\n",
    "X_test_scaled= add_dummy_feature(X_test_scaled)\n",
    "\n",
    "X_train_scaled.shape, X_test_scaled.shape"
   ]
  },
  {
   "cell_type": "code",
   "execution_count": 86,
   "metadata": {},
   "outputs": [
    {
     "data": {
      "text/plain": [
       "(529014, 1)"
      ]
     },
     "execution_count": 86,
     "metadata": {},
     "output_type": "execute_result"
    }
   ],
   "source": [
    "y_train_new = y_train.values.reshape(-1,1)\n",
    "\n",
    "y_train_new.shape"
   ]
  },
  {
   "cell_type": "code",
   "execution_count": 87,
   "metadata": {},
   "outputs": [],
   "source": [
    "from math import ceil\n",
    "\n",
    "def loss_func(X, y, theta):\n",
    "    aa = np.dot(X, theta)\n",
    "    bb = np.dot((aa - y).transpose(), (aa - y))\n",
    "    bb /= 2\n",
    "    return bb[0]\n",
    "\n",
    "\n",
    "def learning_schedule(t):\n",
    "    t0, t1 = 200, 1000  # learning schedule hyperparameters\n",
    "    return t0 / (t + t1)\n",
    "\n",
    "def minibatch_GD(X_train_scaled, y, n_epochs, minibatch_size, eta, random_state = 123):\n",
    "    m = len(X_train_scaled)\n",
    "    n_batches_per_epoch = ceil(m / minibatch_size)\n",
    "    theta = np.random.randn(X_train_scaled.shape[1], 1)\n",
    "\n",
    "    theta_path_mgd = []\n",
    "    loss_list = []\n",
    "\n",
    "    for epoch in range(n_epochs):\n",
    "        shuffled_indices = np.random.permutation(m)\n",
    "        X_b_shuffled = X_train_scaled[shuffled_indices]\n",
    "        y_shuffled = y[shuffled_indices] \n",
    "        \n",
    "        for iteration in range(0, n_batches_per_epoch):\n",
    "            idx = iteration * minibatch_size\n",
    "            xi = X_b_shuffled[idx : idx + minibatch_size]\n",
    "            yi = y_shuffled[idx : idx + minibatch_size]\n",
    "            gradients = 2 / minibatch_size * xi.T @ (xi @ theta - yi)\n",
    "            theta = theta - eta * gradients\n",
    "            loss_value = loss_func(xi, yi, theta)\n",
    "            theta_path_mgd.append(theta) \n",
    "            loss_list.append(loss_value) \n",
    "\n",
    "    return theta_path_mgd, loss_list\n"
   ]
  },
  {
   "attachments": {},
   "cell_type": "markdown",
   "metadata": {},
   "source": [
    "### minibatch_size = 50"
   ]
  },
  {
   "cell_type": "code",
   "execution_count": 88,
   "metadata": {},
   "outputs": [
    {
     "name": "stdout",
     "output_type": "stream",
     "text": [
      "The minimal cost value is:  [0.13936542]\n",
      "The minimal cost theta is:  [[10.92969544]\n",
      " [ 1.60173246]\n",
      " [-4.61386707]\n",
      " [ 0.2549791 ]\n",
      " [-0.52213663]]\n"
     ]
    }
   ],
   "source": [
    "# Call the function for minibatch_size = 50\n",
    "\n",
    "theta_path_mgd, loss_path_mgd = minibatch_GD(X_train_scaled=X_train_scaled, y=y_train_new, minibatch_size = 50, eta = 0.1, n_epochs = 100, random_state = 123)\n",
    "\n",
    "# combine the theta and cost values into a list\n",
    "pathlist = list(zip(theta_path_mgd, loss_path_mgd))\n",
    "# sort the list\n",
    "pathlist_sorted = sorted(pathlist, key=lambda x: x[1])\n",
    "# get the minimal cost theta\n",
    "min_cost_theta = pathlist_sorted[0][0]\n",
    "# get the minimal cost value\n",
    "min_cost_value = pathlist_sorted[0][1]\n",
    "# print the minimal cost value and theta\n",
    "print('The minimal cost value is: ', min_cost_value)\n",
    "print('The minimal cost theta is: ', min_cost_theta)\n"
   ]
  },
  {
   "cell_type": "code",
   "execution_count": 89,
   "metadata": {},
   "outputs": [
    {
     "data": {
      "text/html": [
       "<div>\n",
       "<style scoped>\n",
       "    .dataframe tbody tr th:only-of-type {\n",
       "        vertical-align: middle;\n",
       "    }\n",
       "\n",
       "    .dataframe tbody tr th {\n",
       "        vertical-align: top;\n",
       "    }\n",
       "\n",
       "    .dataframe thead th {\n",
       "        text-align: right;\n",
       "    }\n",
       "</style>\n",
       "<table border=\"1\" class=\"dataframe\">\n",
       "  <thead>\n",
       "    <tr style=\"text-align: right;\">\n",
       "      <th></th>\n",
       "      <th>MSE</th>\n",
       "      <th>R2</th>\n",
       "      <th>Var</th>\n",
       "    </tr>\n",
       "  </thead>\n",
       "  <tbody>\n",
       "    <tr>\n",
       "      <th>0</th>\n",
       "      <td>0.112447</td>\n",
       "      <td>0.993703</td>\n",
       "      <td>0.993716</td>\n",
       "    </tr>\n",
       "  </tbody>\n",
       "</table>\n",
       "</div>"
      ],
      "text/plain": [
       "        MSE        R2       Var\n",
       "0  0.112447  0.993703  0.993716"
      ]
     },
     "execution_count": 89,
     "metadata": {},
     "output_type": "execute_result"
    }
   ],
   "source": [
    "# Get the predicted value\n",
    "\n",
    "y_pred_mgd = X_test_scaled @ min_cost_theta\n",
    "y_pred_train = X_train_scaled @ min_cost_theta\n",
    "\n",
    "# Calculate metrics\n",
    "from sklearn.metrics import mean_squared_error, r2_score,explained_variance_score\n",
    "\n",
    "MSE = mean_squared_error(y_test, y_pred_mgd)\n",
    "R2 = r2_score(y_test, y_pred_mgd)\n",
    "Var = explained_variance_score(y_test, y_pred_mgd)\n",
    "dict = {'MSE': [MSE], 'R2': [R2], 'Var': [Var]}\n",
    "dfdict = pd.DataFrame(dict)\n",
    "dfdict"
   ]
  },
  {
   "cell_type": "code",
   "execution_count": 90,
   "metadata": {},
   "outputs": [
    {
     "data": {
      "image/png": "[encoded data removed]",
      "text/plain": [
       "<Figure size 640x480 with 1 Axes>"
      ]
     },
     "metadata": {},
     "output_type": "display_data"
    }
   ],
   "source": [
    "# Create a scatterplot that shows actual versus predicted values for the T_degC for the test data.\n",
    "\n",
    "plt.scatter(y_test, y_pred_mgd)\n",
    "\n",
    "plt.title('Actual vs Predicted T_degC')\n",
    "\n",
    "plt.xlabel('Actual T_degC')\n",
    "\n",
    "plt.ylabel('Predicted T_degC')\n",
    "\n",
    "plt.show()"
   ]
  },
  {
   "cell_type": "code",
   "execution_count": 91,
   "metadata": {},
   "outputs": [
    {
     "data": {
      "text/html": [
       "<div>\n",
       "<style scoped>\n",
       "    .dataframe tbody tr th:only-of-type {\n",
       "        vertical-align: middle;\n",
       "    }\n",
       "\n",
       "    .dataframe tbody tr th {\n",
       "        vertical-align: top;\n",
       "    }\n",
       "\n",
       "    .dataframe thead th {\n",
       "        text-align: right;\n",
       "    }\n",
       "</style>\n",
       "<table border=\"1\" class=\"dataframe\">\n",
       "  <thead>\n",
       "    <tr style=\"text-align: right;\">\n",
       "      <th></th>\n",
       "      <th>MSE</th>\n",
       "      <th>R2</th>\n",
       "      <th>Var</th>\n",
       "    </tr>\n",
       "  </thead>\n",
       "  <tbody>\n",
       "    <tr>\n",
       "      <th>0</th>\n",
       "      <td>0.112919</td>\n",
       "      <td>0.993672</td>\n",
       "      <td>0.993684</td>\n",
       "    </tr>\n",
       "  </tbody>\n",
       "</table>\n",
       "</div>"
      ],
      "text/plain": [
       "        MSE        R2       Var\n",
       "0  0.112919  0.993672  0.993684"
      ]
     },
     "execution_count": 91,
     "metadata": {},
     "output_type": "execute_result"
    }
   ],
   "source": [
    "# Caculate metrics for the train data\n",
    "MSE = mean_squared_error(y_train, y_pred_train)\n",
    "R2 = r2_score(y_train, y_pred_train)\n",
    "Var = explained_variance_score(y_train, y_pred_train)\n",
    "dict = {'MSE': [MSE], 'R2': [R2], 'Var': [Var]}\n",
    "dfdict = pd.DataFrame(dict)\n",
    "dfdict\n"
   ]
  },
  {
   "attachments": {},
   "cell_type": "markdown",
   "metadata": {},
   "source": [
    "### minibatch_size = 250"
   ]
  },
  {
   "cell_type": "code",
   "execution_count": 92,
   "metadata": {},
   "outputs": [
    {
     "name": "stdout",
     "output_type": "stream",
     "text": [
      "The minimal cost value is:  [0.04878725]\n",
      "The minimal cost theta is:  [[10.91468559]\n",
      " [ 1.60982735]\n",
      " [-4.63650932]\n",
      " [ 0.30908561]\n",
      " [-0.428587  ]]\n"
     ]
    }
   ],
   "source": [
    "# Call the function for minibatch_size = 250\n",
    "\n",
    "theta_path_mgd, loss_path_mgd = minibatch_GD(X_train_scaled=X_train_scaled, y=y_train_new, minibatch_size = 250, eta = 0.1, n_epochs = 100, random_state = 123)\n",
    "\n",
    "# combine the theta and cost values into a list\n",
    "pathlist = list(zip(theta_path_mgd, loss_path_mgd))\n",
    "# sort the list\n",
    "pathlist_sorted = sorted(pathlist, key=lambda x: x[1])\n",
    "# get the minimal cost theta\n",
    "min_cost_theta = pathlist_sorted[0][0]\n",
    "# get the minimal cost value\n",
    "min_cost_value = pathlist_sorted[0][1]\n",
    "# print the minimal cost value and theta\n",
    "print('The minimal cost value is: ', min_cost_value)\n",
    "print('The minimal cost theta is: ', min_cost_theta)\n"
   ]
  },
  {
   "cell_type": "code",
   "execution_count": 93,
   "metadata": {},
   "outputs": [
    {
     "data": {
      "text/html": [
       "<div>\n",
       "<style scoped>\n",
       "    .dataframe tbody tr th:only-of-type {\n",
       "        vertical-align: middle;\n",
       "    }\n",
       "\n",
       "    .dataframe tbody tr th {\n",
       "        vertical-align: top;\n",
       "    }\n",
       "\n",
       "    .dataframe thead th {\n",
       "        text-align: right;\n",
       "    }\n",
       "</style>\n",
       "<table border=\"1\" class=\"dataframe\">\n",
       "  <thead>\n",
       "    <tr style=\"text-align: right;\">\n",
       "      <th></th>\n",
       "      <th>MSE</th>\n",
       "      <th>R2</th>\n",
       "      <th>Var</th>\n",
       "    </tr>\n",
       "  </thead>\n",
       "  <tbody>\n",
       "    <tr>\n",
       "      <th>0</th>\n",
       "      <td>0.11148</td>\n",
       "      <td>0.993757</td>\n",
       "      <td>0.993757</td>\n",
       "    </tr>\n",
       "  </tbody>\n",
       "</table>\n",
       "</div>"
      ],
      "text/plain": [
       "       MSE        R2       Var\n",
       "0  0.11148  0.993757  0.993757"
      ]
     },
     "execution_count": 93,
     "metadata": {},
     "output_type": "execute_result"
    }
   ],
   "source": [
    "# Get the predicted value\n",
    "\n",
    "y_pred_mgd = X_test_scaled @ min_cost_theta\n",
    "y_pred_train = X_train_scaled @ min_cost_theta\n",
    "\n",
    "# Calculate metrics\n",
    "from sklearn.metrics import mean_squared_error, r2_score,explained_variance_score\n",
    "\n",
    "MSE = mean_squared_error(y_test, y_pred_mgd)\n",
    "R2 = r2_score(y_test, y_pred_mgd)\n",
    "Var = explained_variance_score(y_test, y_pred_mgd)\n",
    "dict = {'MSE': [MSE], 'R2': [R2], 'Var': [Var]}\n",
    "dfdict = pd.DataFrame(dict)\n",
    "dfdict"
   ]
  },
  {
   "cell_type": "code",
   "execution_count": 94,
   "metadata": {},
   "outputs": [
    {
     "data": {
      "image/png": "[encoded data removed]",
      "text/plain": [
       "<Figure size 640x480 with 1 Axes>"
      ]
     },
     "metadata": {},
     "output_type": "display_data"
    }
   ],
   "source": [
    "# Create a scatterplot that shows actual versus predicted values for the T_degC for the test data.\n",
    "\n",
    "plt.scatter(y_test, y_pred_mgd)\n",
    "\n",
    "plt.title('Actual vs Predicted T_degC')\n",
    "\n",
    "plt.xlabel('Actual T_degC')\n",
    "\n",
    "plt.ylabel('Predicted T_degC')\n",
    "\n",
    "plt.show()"
   ]
  },
  {
   "cell_type": "code",
   "execution_count": 95,
   "metadata": {},
   "outputs": [
    {
     "data": {
      "text/html": [
       "<div>\n",
       "<style scoped>\n",
       "    .dataframe tbody tr th:only-of-type {\n",
       "        vertical-align: middle;\n",
       "    }\n",
       "\n",
       "    .dataframe tbody tr th {\n",
       "        vertical-align: top;\n",
       "    }\n",
       "\n",
       "    .dataframe thead th {\n",
       "        text-align: right;\n",
       "    }\n",
       "</style>\n",
       "<table border=\"1\" class=\"dataframe\">\n",
       "  <thead>\n",
       "    <tr style=\"text-align: right;\">\n",
       "      <th></th>\n",
       "      <th>MSE</th>\n",
       "      <th>R2</th>\n",
       "      <th>Var</th>\n",
       "    </tr>\n",
       "  </thead>\n",
       "  <tbody>\n",
       "    <tr>\n",
       "      <th>0</th>\n",
       "      <td>0.112168</td>\n",
       "      <td>0.993714</td>\n",
       "      <td>0.993714</td>\n",
       "    </tr>\n",
       "  </tbody>\n",
       "</table>\n",
       "</div>"
      ],
      "text/plain": [
       "        MSE        R2       Var\n",
       "0  0.112168  0.993714  0.993714"
      ]
     },
     "execution_count": 95,
     "metadata": {},
     "output_type": "execute_result"
    }
   ],
   "source": [
    "# Caculate metrics for the train data\n",
    "MSE = mean_squared_error(y_train, y_pred_train)\n",
    "R2 = r2_score(y_train, y_pred_train)\n",
    "Var = explained_variance_score(y_train, y_pred_train)\n",
    "dict = {'MSE': [MSE], 'R2': [R2], 'Var': [Var]}\n",
    "dfdict = pd.DataFrame(dict)\n",
    "dfdict\n"
   ]
  },
  {
   "attachments": {},
   "cell_type": "markdown",
   "metadata": {},
   "source": [
    "### minibatch_size = 2000"
   ]
  },
  {
   "cell_type": "code",
   "execution_count": 96,
   "metadata": {},
   "outputs": [
    {
     "name": "stdout",
     "output_type": "stream",
     "text": [
      "The minimal cost value is:  [43.51350775]\n",
      "The minimal cost theta is:  [[10.91754945]\n",
      " [ 1.63732406]\n",
      " [-4.64075762]\n",
      " [ 0.2977043 ]\n",
      " [-0.47093874]]\n"
     ]
    }
   ],
   "source": [
    "# Call the function for minibatch_size = 2000\n",
    "\n",
    "theta_path_mgd, loss_path_mgd = minibatch_GD(X_train_scaled=X_train_scaled, y=y_train_new, minibatch_size = 2000, eta = 0.1, n_epochs = 100, )\n",
    "random_state = 123\n",
    "# combine the theta and cost values into a list\n",
    "pathlist = list(zip(theta_path_mgd, loss_path_mgd))\n",
    "# sort the list\n",
    "pathlist_sorted = sorted(pathlist, key=lambda x: x[1])\n",
    "# get the minimal cost theta\n",
    "min_cost_theta = pathlist_sorted[0][0]\n",
    "# get the minimal cost value\n",
    "min_cost_value = pathlist_sorted[0][1]\n",
    "# print the minimal cost value and theta\n",
    "print('The minimal cost value is: ', min_cost_value)\n",
    "print('The minimal cost theta is: ', min_cost_theta)\n"
   ]
  },
  {
   "cell_type": "code",
   "execution_count": 97,
   "metadata": {},
   "outputs": [
    {
     "data": {
      "text/html": [
       "<div>\n",
       "<style scoped>\n",
       "    .dataframe tbody tr th:only-of-type {\n",
       "        vertical-align: middle;\n",
       "    }\n",
       "\n",
       "    .dataframe tbody tr th {\n",
       "        vertical-align: top;\n",
       "    }\n",
       "\n",
       "    .dataframe thead th {\n",
       "        text-align: right;\n",
       "    }\n",
       "</style>\n",
       "<table border=\"1\" class=\"dataframe\">\n",
       "  <thead>\n",
       "    <tr style=\"text-align: right;\">\n",
       "      <th></th>\n",
       "      <th>MSE</th>\n",
       "      <th>R2</th>\n",
       "      <th>Var</th>\n",
       "    </tr>\n",
       "  </thead>\n",
       "  <tbody>\n",
       "    <tr>\n",
       "      <th>0</th>\n",
       "      <td>0.110258</td>\n",
       "      <td>0.993825</td>\n",
       "      <td>0.993826</td>\n",
       "    </tr>\n",
       "  </tbody>\n",
       "</table>\n",
       "</div>"
      ],
      "text/plain": [
       "        MSE        R2       Var\n",
       "0  0.110258  0.993825  0.993826"
      ]
     },
     "execution_count": 97,
     "metadata": {},
     "output_type": "execute_result"
    }
   ],
   "source": [
    "# Get the predicted value\n",
    "\n",
    "y_pred_mgd = X_test_scaled @ min_cost_theta\n",
    "y_pred_train = X_train_scaled @ min_cost_theta\n",
    "\n",
    "# Calculate metrics\n",
    "from sklearn.metrics import mean_squared_error, r2_score,explained_variance_score\n",
    "\n",
    "MSE = mean_squared_error(y_test, y_pred_mgd)\n",
    "R2 = r2_score(y_test, y_pred_mgd)\n",
    "Var = explained_variance_score(y_test, y_pred_mgd)\n",
    "dict = {'MSE': [MSE], 'R2': [R2], 'Var': [Var]}\n",
    "dfdict = pd.DataFrame(dict)\n",
    "dfdict"
   ]
  },
  {
   "cell_type": "code",
   "execution_count": 98,
   "metadata": {},
   "outputs": [
    {
     "data": {
      "image/png": "[encoded data removed]",
      "text/plain": [
       "<Figure size 640x480 with 1 Axes>"
      ]
     },
     "metadata": {},
     "output_type": "display_data"
    }
   ],
   "source": [
    "# Create a scatterplot that shows actual versus predicted values for the T_degC for the test data.\n",
    "\n",
    "plt.scatter(y_test, y_pred_mgd)\n",
    "\n",
    "plt.title('Actual vs Predicted T_degC')\n",
    "\n",
    "plt.xlabel('Actual T_degC')\n",
    "\n",
    "plt.ylabel('Predicted T_degC')\n",
    "\n",
    "plt.show()"
   ]
  },
  {
   "cell_type": "code",
   "execution_count": 99,
   "metadata": {},
   "outputs": [
    {
     "data": {
      "text/html": [
       "<div>\n",
       "<style scoped>\n",
       "    .dataframe tbody tr th:only-of-type {\n",
       "        vertical-align: middle;\n",
       "    }\n",
       "\n",
       "    .dataframe tbody tr th {\n",
       "        vertical-align: top;\n",
       "    }\n",
       "\n",
       "    .dataframe thead th {\n",
       "        text-align: right;\n",
       "    }\n",
       "</style>\n",
       "<table border=\"1\" class=\"dataframe\">\n",
       "  <thead>\n",
       "    <tr style=\"text-align: right;\">\n",
       "      <th></th>\n",
       "      <th>MSE</th>\n",
       "      <th>R2</th>\n",
       "      <th>Var</th>\n",
       "    </tr>\n",
       "  </thead>\n",
       "  <tbody>\n",
       "    <tr>\n",
       "      <th>0</th>\n",
       "      <td>0.11087</td>\n",
       "      <td>0.993787</td>\n",
       "      <td>0.993787</td>\n",
       "    </tr>\n",
       "  </tbody>\n",
       "</table>\n",
       "</div>"
      ],
      "text/plain": [
       "       MSE        R2       Var\n",
       "0  0.11087  0.993787  0.993787"
      ]
     },
     "execution_count": 99,
     "metadata": {},
     "output_type": "execute_result"
    }
   ],
   "source": [
    "# Caculate metrics for the train data\n",
    "MSE = mean_squared_error(y_train, y_pred_train)\n",
    "R2 = r2_score(y_train, y_pred_train)\n",
    "Var = explained_variance_score(y_train, y_pred_train)\n",
    "dict = {'MSE': [MSE], 'R2': [R2], 'Var': [Var]}\n",
    "dfdict = pd.DataFrame(dict)\n",
    "dfdict\n"
   ]
  },
  {
   "attachments": {},
   "cell_type": "markdown",
   "metadata": {},
   "source": [
    "## Part E: Conceptual Questions\n",
    "\n",
    "1) Describe how parameter estimation in Gradient Descent differs from using the normal equation.\n",
    "\n",
    "2) We used Mini-Batch Gradient descent here, but there are a variety of options for Gradient Descent. How is Mini-Batch Gradient Descent different from Stochastic Gradient Descent?\n",
    "\n",
    "3) Identify your best-performing version of Gradient Descent and compare the error metrics for test data vs training data. Does this version of gradient descent show signs of overfitting? Explain.\n",
    "\n",
    "4) Explain what the learning rate is for. Even though we did not, why might it be helpful to change the learning rate over time?\n",
    "\n",
    "5) Why would a data scientist want to use early stopping in gradient descent? "
   ]
  },
  {
   "attachments": {},
   "cell_type": "markdown",
   "metadata": {},
   "source": [
    "--(1) \n",
    "\n",
    "Gradient descent is an iterative optimization algorithm that can handle large datasets and is more flexible in terms of the types of models it can optimize. However, it requires tuning hyperparameters such as the learning rate and the number of iterations, and it may converge to a local minimum instead of the global minimum.\n",
    "\n",
    "Normal equation is a closed-form solution that does not require any hyperparameter tuning and can handle small to medium-sized datasets. However, it may not work for more complex models, and it can be computationally expensive for large datasets."
   ]
  },
  {
   "attachments": {},
   "cell_type": "markdown",
   "metadata": {},
   "source": [
    "--(2)\n",
    "\n",
    "Stochastic Gradient Descent (SGD) updates the parameters after each training example in the dataset. This leads to a higher computational efficiency and it is more stuitable for large datasets. \n",
    "\n",
    "The Mini-Batch Gradient Descent updates the parameters after processing a small random subset of the training data at each iteration\n",
    "\n",
    "In comparison with Mini- Batch GD, SGD might be unstable and prone to generate more noise because the gradient can fluctuate significantly from one example to the next.\n"
   ]
  },
  {
   "attachments": {},
   "cell_type": "markdown",
   "metadata": {},
   "source": [
    "--(3)\n",
    "\n",
    "After camparing the metrics, I found that when mini batch size = 2000, the model has the best performance with the smallest test MSE and highest test R2 AND explained variance. \n",
    "\n",
    "After comparing the test and train metrics for the Min-batch GD model with hyperparameter mini batch size = 2000, I found that the metrics for test data has been improved than the metrics for the train data. The MSE is lower, simultanously, the R2 and Var is higher in the test data. Therefore, this version of gradient descent does not show signs of overfitting."
   ]
  },
  {
   "attachments": {},
   "cell_type": "markdown",
   "metadata": {},
   "source": [
    "--(4)\n",
    "\n",
    "The learning rate in gradient descent is a hyperparameter which can control step size at each iteration. Dynamiclly changing the learning rate over time can be helpful for several reasons. \n",
    "\n",
    "Firstly, it can help the model to escape local minima by gradually decreasing the learning rate, allowing the model to settle into the optimal solution. Secondly, it can help the model to converge more smoothly by reducing the oscillations caused by a high learning rate. Thirdly, it can speed up the convergence by starting with a high learning rate and gradually decreasing it as the model approaches the optimal solution. Finally, learning rate scheduling can also help the model to generalize better by preventing overfitting to the training data."
   ]
  },
  {
   "attachments": {},
   "cell_type": "markdown",
   "metadata": {},
   "source": [
    "--(5)\n",
    "\n",
    "1. Saving the time: Early stopping can save time and resources by stopping the training process when further training is unlikely to improve the validation error.\n",
    "\n",
    "2. prevent overfitting: Early stopping helps to prevent overfitting by stopping the training process before the model has a chance to memorize the training data.\n",
    "\n",
    "3. Improve the model's generalization ability: Early stopping can improve the generalization of the model by preventing it from learning spurious patterns in the training data that do not generalize well to new data.\n",
    "\n",
    "4. Generate more rebust model: The early stopping can facilate the model to be less sentistive to small changes in the training data or the hyperparameters, making it more robust and reliable."
   ]
  }
 ],
 "metadata": {
  "kernelspec": {
   "display_name": "Python 3",
   "language": "python",
   "name": "python3"
  },
  "language_info": {
   "codemirror_mode": {
    "name": "ipython",
    "version": 3
   },
   "file_extension": ".py",
   "mimetype": "text/x-python",
   "name": "python",
   "nbconvert_exporter": "python",
   "pygments_lexer": "ipython3",
   "version": "3.9.2"
  },
  "vscode": {
   "interpreter": {
    "hash": "4e536bfde5cd42fc1ddb45c0672dc502ba2b5d65585826a881464e34e04fe172"
   }
  }
 },
 "nbformat": 4,
 "nbformat_minor": 2
}
