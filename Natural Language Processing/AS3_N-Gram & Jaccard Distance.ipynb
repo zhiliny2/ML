{
 "cells": [
  {
   "attachments": {},
   "cell_type": "markdown",
   "metadata": {},
   "source": [
    "## NLP Class Assignment 3--Richard Yang\n",
    "\n",
    "You have been provided with a starter notebook that reads a collection of tweets and a collection of news articles\n",
    "\n",
    "You need to determine which news articles (news_df) are similar to each other and which tweets (tweets_df) are more similar to each other.  In order to accomplish this you need to create n-grams and compare the similarity of the text using Jaccard distance.\n",
    "\n",
    "Your final submission must include the following:\n",
    "\n",
    "Which news articles / tweets were similar and which ones were dissimilar?\n",
    "A brief write-up explaining why and how you chose “n” for you analysis (for n-grams)\n",
    "Was the “n” identical or different for articles vs. tweets and why\n",
    "Visualize the selection of “n”\n",
    "For the news articles, please explain why you chose text or title or both text + title combined\n",
    "Include all of your program codes (creating n-grams from text as well as selecting the “n” for analysis)\n",
    "Additional instructions:\n",
    "\n",
    "To get quality results apply appropriate text cleaning methods\n",
    "Your submission must be a Python Notebook (ipynb)\n",
    "Use 'Markdown' in the cell to document your answers / provide comments as needed\n",
    "Visualize your results instead of writing about them. Remember, a picture is worth a thousand words\n"
   ]
  },
  {
   "cell_type": "code",
   "execution_count": 2,
   "metadata": {},
   "outputs": [],
   "source": [
    "import pandas as pd\n",
    "import regex as re\n",
    "\n",
    "pd.set_option('display.max_rows', 100)\n",
    "\n",
    "pd.set_option('display.max_columns', None)\n",
    "pd.set_option('display.max_colwidth', 500)"
   ]
  },
  {
   "cell_type": "markdown",
   "metadata": {},
   "source": [
    "#### Read news data"
   ]
  },
  {
   "cell_type": "code",
   "execution_count": 3,
   "metadata": {},
   "outputs": [
    {
     "name": "stdout",
     "output_type": "stream",
     "text": [
      "Sample contains 1,018 news articles\n"
     ]
    },
    {
     "data": {
      "text/html": [
       "<div>\n",
       "<style scoped>\n",
       "    .dataframe tbody tr th:only-of-type {\n",
       "        vertical-align: middle;\n",
       "    }\n",
       "\n",
       "    .dataframe tbody tr th {\n",
       "        vertical-align: top;\n",
       "    }\n",
       "\n",
       "    .dataframe thead th {\n",
       "        text-align: right;\n",
       "    }\n",
       "</style>\n",
       "<table border=\"1\" class=\"dataframe\">\n",
       "  <thead>\n",
       "    <tr style=\"text-align: right;\">\n",
       "      <th></th>\n",
       "      <th>url</th>\n",
       "      <th>date</th>\n",
       "      <th>language</th>\n",
       "      <th>title</th>\n",
       "      <th>text</th>\n",
       "    </tr>\n",
       "  </thead>\n",
       "  <tbody>\n",
       "    <tr>\n",
       "      <th>0</th>\n",
       "      <td>https://auto.hindustantimes.com/lml-bikes/dealers/bodh-gaya</td>\n",
       "      <td>2022-01-21</td>\n",
       "      <td>en</td>\n",
       "      <td>Lml Bikes Car Dealers - Lml Bikes Showrooms in India</td>\n",
       "      <td>Lml Bikes Car Dealers - Lml Bikes Showrooms in India Explore  Friday, 21 January 2022 Log in/Sign up SearchNotificationsTop SectionsAuto NewsCar NewsBike NewsLatestAuto NewsPhotosVideosElectric VehiclesTrendingMy ReadsOffersnewFind carsFind bikesCompare carsCompare bikesEMI calculatorDealersExplore AutoAbout UsContact UsSITEMAPRSSTerms of UsePrivacy PolicyCopyright © HT Media Limited All rights reserved.HomeOffersnewFind carsFind bikesCompare carsCompare bikesEMI calculatorDealersCar NewsBik...</td>\n",
       "    </tr>\n",
       "    <tr>\n",
       "      <th>1</th>\n",
       "      <td>https://auto.hindustantimes.com/pure-ev-bikes/dealers/avadi</td>\n",
       "      <td>2022-01-21</td>\n",
       "      <td>en</td>\n",
       "      <td>Pure Ev Bikes Car Dealers - Pure Ev Bikes Showrooms in India</td>\n",
       "      <td>Pure Ev Bikes Car Dealers - Pure Ev Bikes Showrooms in India Explore  Friday, 21 January 2022 Log in/Sign up SearchNotificationsTop SectionsAuto NewsCar NewsBike NewsLatestAuto NewsPhotosVideosElectric VehiclesTrendingMy ReadsOffersnewFind carsFind bikesCompare carsCompare bikesEMI calculatorDealersExplore AutoAbout UsContact UsSITEMAPRSSTerms of UsePrivacy PolicyCopyright © HT Media Limited All rights reserved.HomeOffersnewFind carsFind bikesCompare carsCompare bikesEMI calculatorDealersCar...</td>\n",
       "    </tr>\n",
       "  </tbody>\n",
       "</table>\n",
       "</div>"
      ],
      "text/plain": [
       "                                                           url       date  \\\n",
       "0  https://auto.hindustantimes.com/lml-bikes/dealers/bodh-gaya 2022-01-21   \n",
       "1  https://auto.hindustantimes.com/pure-ev-bikes/dealers/avadi 2022-01-21   \n",
       "\n",
       "  language                                                         title  \\\n",
       "0       en          Lml Bikes Car Dealers - Lml Bikes Showrooms in India   \n",
       "1       en  Pure Ev Bikes Car Dealers - Pure Ev Bikes Showrooms in India   \n",
       "\n",
       "                                                                                                                                                                                                                                                                                                                                                                                                                                                                                                                  text  \n",
       "0  Lml Bikes Car Dealers - Lml Bikes Showrooms in India Explore  Friday, 21 January 2022 Log in/Sign up SearchNotificationsTop SectionsAuto NewsCar NewsBike NewsLatestAuto NewsPhotosVideosElectric VehiclesTrendingMy ReadsOffersnewFind carsFind bikesCompare carsCompare bikesEMI calculatorDealersExplore AutoAbout UsContact UsSITEMAPRSSTerms of UsePrivacy PolicyCopyright © HT Media Limited All rights reserved.HomeOffersnewFind carsFind bikesCompare carsCompare bikesEMI calculatorDealersCar NewsBik...  \n",
       "1  Pure Ev Bikes Car Dealers - Pure Ev Bikes Showrooms in India Explore  Friday, 21 January 2022 Log in/Sign up SearchNotificationsTop SectionsAuto NewsCar NewsBike NewsLatestAuto NewsPhotosVideosElectric VehiclesTrendingMy ReadsOffersnewFind carsFind bikesCompare carsCompare bikesEMI calculatorDealersExplore AutoAbout UsContact UsSITEMAPRSSTerms of UsePrivacy PolicyCopyright © HT Media Limited All rights reserved.HomeOffersnewFind carsFind bikesCompare carsCompare bikesEMI calculatorDealersCar...  "
      ]
     },
     "execution_count": 3,
     "metadata": {},
     "output_type": "execute_result"
    }
   ],
   "source": [
    "news_path = 'https://storage.googleapis.com/msca-bdp-data-open/news/nlp_a_3_news.json'\n",
    "news_df = pd.read_json(news_path, orient='records', lines=True)\n",
    "\n",
    "print(f'Sample contains {news_df.shape[0]:,.0f} news articles')\n",
    "news_df.head(2)"
   ]
  },
  {
   "cell_type": "markdown",
   "metadata": {},
   "source": [
    "#### Read Tweets data"
   ]
  },
  {
   "cell_type": "code",
   "execution_count": 4,
   "metadata": {},
   "outputs": [
    {
     "name": "stdout",
     "output_type": "stream",
     "text": [
      "Sample contains 1,020 tweets\n"
     ]
    },
    {
     "data": {
      "text/html": [
       "<div>\n",
       "<style scoped>\n",
       "    .dataframe tbody tr th:only-of-type {\n",
       "        vertical-align: middle;\n",
       "    }\n",
       "\n",
       "    .dataframe tbody tr th {\n",
       "        vertical-align: top;\n",
       "    }\n",
       "\n",
       "    .dataframe thead th {\n",
       "        text-align: right;\n",
       "    }\n",
       "</style>\n",
       "<table border=\"1\" class=\"dataframe\">\n",
       "  <thead>\n",
       "    <tr style=\"text-align: right;\">\n",
       "      <th></th>\n",
       "      <th>id</th>\n",
       "      <th>lang</th>\n",
       "      <th>date</th>\n",
       "      <th>name</th>\n",
       "      <th>retweeted</th>\n",
       "      <th>text</th>\n",
       "    </tr>\n",
       "  </thead>\n",
       "  <tbody>\n",
       "    <tr>\n",
       "      <th>0</th>\n",
       "      <td>1491880241782005777</td>\n",
       "      <td>en</td>\n",
       "      <td>2022-02-10</td>\n",
       "      <td>Sir Botalot dropping the Mike!</td>\n",
       "      <td></td>\n",
       "      <td>@singervehicles Will you do a straight swap for my Renault Twingo 1.2 Extreme? \\n\\nThat is awesome! 🔥</td>\n",
       "    </tr>\n",
       "    <tr>\n",
       "      <th>1</th>\n",
       "      <td>1501237946590142469</td>\n",
       "      <td>en</td>\n",
       "      <td>2022-03-08</td>\n",
       "      <td>Sabrina Ghio</td>\n",
       "      <td>RT</td>\n",
       "      <td>Australian GP Qualifying, Melbourne, 8th March 1997. #F1 The Grid ⬇️\\n\\nRow 3:\\n5. Eddie Irvine (Ferrari) +2.512s\\n6. Mika Hakkinen (McLaren-Mercedes) +2.602s\\n\\nRow 4:\\n7. Johnny Herbert (Sauber-Petronas) +2.918s\\n8. Jean Alesi (Benetton-Renault) +3.224s https://t.co/i4IC4LzVVN</td>\n",
       "    </tr>\n",
       "  </tbody>\n",
       "</table>\n",
       "</div>"
      ],
      "text/plain": [
       "                    id lang       date                            name  \\\n",
       "0  1491880241782005777   en 2022-02-10  Sir Botalot dropping the Mike!   \n",
       "1  1501237946590142469   en 2022-03-08                    Sabrina Ghio   \n",
       "\n",
       "  retweeted  \\\n",
       "0             \n",
       "1        RT   \n",
       "\n",
       "                                                                                                                                                                                                                                                                                      text  \n",
       "0                                                                                                                                                                                    @singervehicles Will you do a straight swap for my Renault Twingo 1.2 Extreme? \\n\\nThat is awesome! 🔥  \n",
       "1  Australian GP Qualifying, Melbourne, 8th March 1997. #F1 The Grid ⬇️\\n\\nRow 3:\\n5. Eddie Irvine (Ferrari) +2.512s\\n6. Mika Hakkinen (McLaren-Mercedes) +2.602s\\n\\nRow 4:\\n7. Johnny Herbert (Sauber-Petronas) +2.918s\\n8. Jean Alesi (Benetton-Renault) +3.224s https://t.co/i4IC4LzVVN  "
      ]
     },
     "execution_count": 4,
     "metadata": {},
     "output_type": "execute_result"
    }
   ],
   "source": [
    "tweets_path = 'https://storage.googleapis.com/msca-bdp-data-open/tweets/nlp_a_3_tweets.json'\n",
    "tweets_df = pd.read_json(tweets_path, orient='records', lines=True)\n",
    "print(f'Sample contains {tweets_df.shape[0]:,.0f} tweets')\n",
    "tweets_df.head(2)"
   ]
  },
  {
   "cell_type": "code",
   "execution_count": 5,
   "metadata": {},
   "outputs": [],
   "source": [
    "# Clean the text column in the tweets_df dataframe\n",
    "tweets_df['text_no_url'] = tweets_df['text'].apply(lambda x: re.sub(r'(?:\\@|http?\\://|https?\\://|www)\\S+','',str(x)))\n",
    "tweets_df['text_no_newline'] = tweets_df['text_no_url'].apply(lambda x:re.sub(r'(?:\\n)','',str(x)))\n",
    "tweets_df['text_new'] = tweets_df['text_no_newline'].apply(lambda x: re.sub(r'(?:\\B#\\w*[a-zA-Z]+\\w*)','',str(x)))"
   ]
  },
  {
   "cell_type": "code",
   "execution_count": 6,
   "metadata": {},
   "outputs": [
    {
     "data": {
      "text/plain": [
       "(788, 9)"
      ]
     },
     "execution_count": 6,
     "metadata": {},
     "output_type": "execute_result"
    }
   ],
   "source": [
    "# drop the duplicate tweets\n",
    "\n",
    "tweets_df.drop_duplicates(subset=['text'], inplace=True)\n",
    "\n",
    "tweets_df.shape"
   ]
  },
  {
   "cell_type": "code",
   "execution_count": 8,
   "metadata": {},
   "outputs": [],
   "source": [
    "import pandas as pd\n",
    "import nltk\n",
    "from nltk.util import ngrams\n",
    "from nltk.metrics.distance import jaccard_distance\n",
    "import matplotlib.pyplot as plt\n",
    "\n",
    "\n",
    "# Define a function to remove the stopwords and punctuation\n",
    "\n",
    "def remove_stopwords(words):\n",
    "    stopwords = set(nltk.corpus.stopwords.words('english'))\n",
    "    # Remove single-character tokens (mostly punctuation)\n",
    "    words = [word for word in words if len(word) > 3]\n",
    "    # Remove numbers\n",
    "    words = [word for word in words if not word.isnumeric()]\n",
    "    # Remove punctuation\n",
    "    words = [word for word in words if word.isalpha()]\n",
    "    # Lowercase all words (default_stopwords are lowercase too)\n",
    "    words = [word.lower() for word in words]\n",
    "    # Remove stopwords\n",
    "    words = [word for word in words if word not in stopwords]\n",
    "    return words"
   ]
  },
  {
   "cell_type": "code",
   "execution_count": 9,
   "metadata": {},
   "outputs": [],
   "source": [
    "# Define a function to create n-grams from text\n",
    "def create_ngrams(text, n):\n",
    "    ngrams_list = list(ngrams(text, n))\n",
    "    return ngrams_list"
   ]
  },
  {
   "cell_type": "code",
   "execution_count": 10,
   "metadata": {},
   "outputs": [],
   "source": [
    "def clean_text(text):\n",
    "    tokens = nltk.word_tokenize(text)\n",
    "    clean_text = remove_stopwords(tokens)\n",
    "    return clean_text"
   ]
  },
  {
   "cell_type": "code",
   "execution_count": 11,
   "metadata": {},
   "outputs": [],
   "source": [
    "# apply the clean_text function to the text_new column\n",
    "\n",
    "tweets_df['clean_text'] = tweets_df['text_new'].apply(clean_text)"
   ]
  },
  {
   "cell_type": "code",
   "execution_count": 12,
   "metadata": {},
   "outputs": [],
   "source": [
    "# Define a function to calculate Jaccard distance between two sets of n-grams\n",
    "def calculate_jaccard_distance(ngrams1, ngrams2):\n",
    "    set1 = set(ngrams1)\n",
    "    set2 = set(ngrams2)\n",
    "    # jaccard_dist = 1 - len(set1.intersection(set2)) / len(set1.union(set2)+0.000001)\n",
    "    jaccard_dist = 1- len(set1 & set2) / (len(set1 | set2) + 0.00001)\n",
    "    return jaccard_dist"
   ]
  },
  {
   "attachments": {},
   "cell_type": "markdown",
   "metadata": {},
   "source": [
    "#### Main Function # 1: compare_tweets. Do not set thresholds for jaccard distance"
   ]
  },
  {
   "cell_type": "code",
   "execution_count": 13,
   "metadata": {},
   "outputs": [],
   "source": [
    "# Define a function to compare similarity between tweets\n",
    "def compare_tweets_without_thresholds(df, n):\n",
    "    similar_pairs = []\n",
    "    dissimilar_pairs = []\n",
    "    similarity_list = []\n",
    "    tweet_texts = df['clean_text'].tolist()\n",
    "    original = df['text'].tolist()\n",
    "    num_tweets = len(tweet_texts)\n",
    "    for i in range(num_tweets):\n",
    "        original_text1 = original[i]  # Get the original text\n",
    "        tweet1 = tweet_texts[i]\n",
    "        ngrams1 = create_ngrams(tweet1, n)\n",
    "        for j in range(i+1, num_tweets):\n",
    "            original_text2 = original[j]  # Get the original text\n",
    "            tweet2 = tweet_texts[j]\n",
    "            ngrams2 = create_ngrams(tweet2, n)\n",
    "            # Exclude same tweet pairs\n",
    "            if tweet1 != tweet2:\n",
    "                jaccard_dist = calculate_jaccard_distance(ngrams1, ngrams2)\n",
    "                similarity_list.append((original_text1, original_text2, jaccard_dist)) \n",
    "    # Sort similar pairs by Jaccard distance in ascending order\n",
    "    similarity_list.sort(key=lambda x: float(x[2]))  # Convert jaccard_dist back to float for sorting\n",
    "    # # Sort dissimilar pairs by Jaccard distance in descending order\n",
    "    # dissimilar_pairs.sort(key=lambda x: float(x[2]), reverse=True)  # Convert jaccard_dist back to float for sorting\n",
    "    return similarity_list\n"
   ]
  },
  {
   "cell_type": "code",
   "execution_count": 14,
   "metadata": {},
   "outputs": [],
   "source": [
    "def find_best_ngram_without_thresholds(df, ngram_range):\n",
    "    x, y = [], []\n",
    "    for i in range(ngram_range[0], ngram_range[1]):\n",
    "        df1 = df[['text']].copy()  # Make a copy of the DataFrame to avoid chained indexing\n",
    "        df1['clean_text'] = df1['text'].apply(lambda x: clean_text(x)) # get a subset of dataframe and apply lambda function\n",
    "        top_pairs_similar = compare_tweets_without_thresholds(df1, i)\n",
    "        top_pairs_df = pd.DataFrame(top_pairs_similar, columns=['Pair1', 'Pair2', 'Jaccard_Distance'])\n",
    "        avg_jaccard_distance = 100 * top_pairs_df['Jaccard_Distance'].mean()\n",
    "        x.append(i)\n",
    "        y.append(avg_jaccard_distance)\n",
    "    return x, y"
   ]
  },
  {
   "cell_type": "code",
   "execution_count": 15,
   "metadata": {},
   "outputs": [],
   "source": [
    "x, y = find_best_ngram_without_thresholds(tweets_df, ngram_range=(1, 15))"
   ]
  },
  {
   "cell_type": "code",
   "execution_count": 16,
   "metadata": {},
   "outputs": [
    {
     "data": {
      "image/png": "[encoded data removed]",
      "text/plain": [
       "<Figure size 640x480 with 1 Axes>"
      ]
     },
     "metadata": {},
     "output_type": "display_data"
    }
   ],
   "source": [
    "# print the best n-gram\n",
    "\n",
    "import matplotlib.pyplot as plt\n",
    "\n",
    "plt.plot(x, y)\n",
    "plt.xlabel('n-gram')\n",
    "plt.ylabel('Jaccard Distance')\n",
    "plt.title('Jaccard Distance for Tweets Text without setting jaccard distance threshold vs n-gram')\n",
    "plt.show()\n"
   ]
  },
  {
   "attachments": {},
   "cell_type": "markdown",
   "metadata": {},
   "source": [
    "Based on the above result, we should choose n=2 as our optimized number of grams. \n",
    "\n",
    "However, In my opinion, if we calculate the average jaccard distance based on the whole text data, it will leads to biased average jaccard distance as most of the texts are dissimilar(very large jaccard distance). In addition, it is hard to tell which 'N' we should choose from the above result as the line tends to be horizontal after n = 4. \n",
    "\n",
    "Therefore, I think it is necessary to add a threshold for jaccard distance (0.5). \n",
    "\n",
    "In this case, we calculate the best 'N' gram based only on how different N performs in relatively similar tweets instead of the whole tweets data."
   ]
  },
  {
   "attachments": {},
   "cell_type": "markdown",
   "metadata": {},
   "source": [
    "#### Main Function # 2: compare_tweets. Set thresholds for jaccard distance<=0.5"
   ]
  },
  {
   "cell_type": "code",
   "execution_count": 17,
   "metadata": {},
   "outputs": [],
   "source": [
    "# Define a function to compare similarity between tweets\n",
    "def compare_tweets(df, n):\n",
    "    similar_pairs = []\n",
    "    dissimilar_pairs = []\n",
    "    tweet_texts = df['clean_text'].tolist()\n",
    "    original = df['text'].tolist()\n",
    "    num_tweets = len(tweet_texts)\n",
    "    for i in range(num_tweets):\n",
    "        original_text1 = original[i]  # Get the original text\n",
    "        tweet1 = tweet_texts[i]\n",
    "        ngrams1 = create_ngrams(tweet1, n)\n",
    "        for j in range(i+1, num_tweets):\n",
    "            original_text2 = original[j]  # Get the original text\n",
    "            tweet2 = tweet_texts[j]\n",
    "            ngrams2 = create_ngrams(tweet2, n)\n",
    "            # Exclude same tweet pairs\n",
    "            if tweet1 != tweet2:\n",
    "                jaccard_dist = calculate_jaccard_distance(ngrams1, ngrams2)\n",
    "                if jaccard_dist <= 0.5:\n",
    "                    similar_pairs.append((original_text1, original_text2,  jaccard_dist))  \n",
    "                else:\n",
    "                    dissimilar_pairs.append((original_text1, original_text2, jaccard_dist))  \n",
    "    # Sort similar pairs by Jaccard distance in ascending order\n",
    "    similar_pairs.sort(key=lambda x: float(x[2]))  # Convert jaccard_dist back to float for sorting\n",
    "    # Sort dissimilar pairs by Jaccard distance in descending order\n",
    "    dissimilar_pairs.sort(key=lambda x: float(x[2]), reverse=True)  # Convert jaccard_dist back to float for sorting\n",
    "    return similar_pairs,dissimilar_pairs"
   ]
  },
  {
   "cell_type": "code",
   "execution_count": 18,
   "metadata": {},
   "outputs": [],
   "source": [
    "def find_best_ngram(df, ngram_range):\n",
    "    x, y = [], []\n",
    "    for i in range(ngram_range[0], ngram_range[1]):\n",
    "        df1 = df[['text']].copy()  # Make a copy of the DataFrame to avoid chained indexing\n",
    "        df1['clean_text'] = df1['text'].apply(lambda x: clean_text(x)) # get a subset of dataframe and apply lambda function\n",
    "        top_pairs_similar, top_pairs_dissimilar = compare_tweets(df1, i)\n",
    "        top_pairs_df = pd.DataFrame(top_pairs_similar, columns=['Pair1', 'Pair2', 'Jaccard_Distance'])\n",
    "        avg_jaccard_distance = 100 * top_pairs_df['Jaccard_Distance'].mean()\n",
    "        x.append(i)\n",
    "        y.append(avg_jaccard_distance)\n",
    "    return x, y\n"
   ]
  },
  {
   "cell_type": "code",
   "execution_count": 19,
   "metadata": {},
   "outputs": [],
   "source": [
    "x, y = find_best_ngram(tweets_df, ngram_range=(1, 15))"
   ]
  },
  {
   "cell_type": "code",
   "execution_count": 20,
   "metadata": {},
   "outputs": [
    {
     "data": {
      "image/png": "[encoded data removed]",
      "text/plain": [
       "<Figure size 640x480 with 1 Axes>"
      ]
     },
     "metadata": {},
     "output_type": "display_data"
    }
   ],
   "source": [
    "# print the best n-gram\n",
    "\n",
    "import matplotlib.pyplot as plt\n",
    "\n",
    "plt.plot(x, y)\n",
    "plt.xlabel('n-gram')\n",
    "plt.ylabel('Jaccard Distance')\n",
    "plt.title('Jaccard Distance for similar tweets (jaccard distance <=0.5) vs n-gram')\n",
    "plt.show()\n"
   ]
  },
  {
   "cell_type": "code",
   "execution_count": 36,
   "metadata": {},
   "outputs": [
    {
     "data": {
      "text/html": [
       "<div>\n",
       "<style scoped>\n",
       "    .dataframe tbody tr th:only-of-type {\n",
       "        vertical-align: middle;\n",
       "    }\n",
       "\n",
       "    .dataframe tbody tr th {\n",
       "        vertical-align: top;\n",
       "    }\n",
       "\n",
       "    .dataframe thead th {\n",
       "        text-align: right;\n",
       "    }\n",
       "</style>\n",
       "<table border=\"1\" class=\"dataframe\">\n",
       "  <thead>\n",
       "    <tr style=\"text-align: right;\">\n",
       "      <th></th>\n",
       "      <th>Pair1</th>\n",
       "      <th>Pair2</th>\n",
       "      <th>Jaccard_Distance</th>\n",
       "    </tr>\n",
       "  </thead>\n",
       "  <tbody>\n",
       "    <tr>\n",
       "      <th>0</th>\n",
       "      <td>Renault Kiger is stunning yet muscular SUV stance is crafted to complement your free spirit. \\n#renault #cars #nagercoil #Sportysmart #renaultcars #renaultindia #bestcars #buycarsnagercoil #morespacing  #renaultkiger https://t.co/0gaRyxca7h</td>\n",
       "      <td>https://t.co/DFfqSVOypZ \\nKiger is stunning yet muscular SUV stance is crafted to complement your free spirit.\\n#renault #cars #nagercoil #Sportysmart #renaultcars #renaultindia #bestcars #buycarsnagercoil #morespacing #renaultkiger https://t.co/LzLJ0IjpyT</td>\n",
       "      <td>0.200002</td>\n",
       "    </tr>\n",
       "    <tr>\n",
       "      <th>1</th>\n",
       "      <td>@cz_binance But what can u tell about @BeaRex_io? They worked with such brands as Spotify, Intel, Amway, Netflix, Blizzard, Sharp, Canon, Loewe, Huawei, Bentley, Audi, Renault, Oriflame. And they have the first instagram mask highly profitable game!</td>\n",
       "      <td>@AboxCrypto @socialdudesnft But what can ya claim about @BeaRexOfficial? They worked with such brands as Spotify, Intel, Amway, Netflix, Blizzard, Sharp, Canon, Loewe, Huawei, Bentley, Audi, Renault, Oriflame. And they have the first instagram mask highly valuable game! https://t.co/qFn1mX16CQ</td>\n",
       "      <td>0.285715</td>\n",
       "    </tr>\n",
       "  </tbody>\n",
       "</table>\n",
       "</div>"
      ],
      "text/plain": [
       "                                                                                                                                                                                                                                                       Pair1  \\\n",
       "0           Renault Kiger is stunning yet muscular SUV stance is crafted to complement your free spirit. \\n#renault #cars #nagercoil #Sportysmart #renaultcars #renaultindia #bestcars #buycarsnagercoil #morespacing  #renaultkiger https://t.co/0gaRyxca7h   \n",
       "1  @cz_binance But what can u tell about @BeaRex_io? They worked with such brands as Spotify, Intel, Amway, Netflix, Blizzard, Sharp, Canon, Loewe, Huawei, Bentley, Audi, Renault, Oriflame. And they have the first instagram mask highly profitable game!   \n",
       "\n",
       "                                                                                                                                                                                                                                                                                                    Pair2  \\\n",
       "0                                        https://t.co/DFfqSVOypZ \\nKiger is stunning yet muscular SUV stance is crafted to complement your free spirit.\\n#renault #cars #nagercoil #Sportysmart #renaultcars #renaultindia #bestcars #buycarsnagercoil #morespacing #renaultkiger https://t.co/LzLJ0IjpyT   \n",
       "1  @AboxCrypto @socialdudesnft But what can ya claim about @BeaRexOfficial? They worked with such brands as Spotify, Intel, Amway, Netflix, Blizzard, Sharp, Canon, Loewe, Huawei, Bentley, Audi, Renault, Oriflame. And they have the first instagram mask highly valuable game! https://t.co/qFn1mX16CQ   \n",
       "\n",
       "   Jaccard_Distance  \n",
       "0          0.200002  \n",
       "1          0.285715  "
      ]
     },
     "execution_count": 36,
     "metadata": {},
     "output_type": "execute_result"
    }
   ],
   "source": [
    "# Choose value of n for n-grams analysis\n",
    "n = 5\n",
    "\n",
    "# Compare similarity between tweets\n",
    "similar_tweets_pairs, dissimilar_tweets_pairs  = compare_tweets(tweets_df, n)\n",
    "\n",
    "# Convert similar_tweet_pairs to DataFrame\n",
    "similar_df = pd.DataFrame(similar_tweets_pairs, columns=['Pair1', 'Pair2', 'Jaccard_Distance'])\n",
    "\n",
    "similar_df"
   ]
  },
  {
   "attachments": {},
   "cell_type": "markdown",
   "metadata": {},
   "source": [
    "Although N=5 seems to be a good choice of 'N', the average jaccard distance when n is getting large can be also biased as the sample size is too small. \n",
    "\n",
    "#### Therefore, I decided to stick to N=2 as my choice of 'N'\n",
    "\n",
    "Similar Tweets:"
   ]
  },
  {
   "cell_type": "code",
   "execution_count": 51,
   "metadata": {},
   "outputs": [
    {
     "data": {
      "text/html": [
       "<div>\n",
       "<style scoped>\n",
       "    .dataframe tbody tr th:only-of-type {\n",
       "        vertical-align: middle;\n",
       "    }\n",
       "\n",
       "    .dataframe tbody tr th {\n",
       "        vertical-align: top;\n",
       "    }\n",
       "\n",
       "    .dataframe thead th {\n",
       "        text-align: right;\n",
       "    }\n",
       "</style>\n",
       "<table border=\"1\" class=\"dataframe\">\n",
       "  <thead>\n",
       "    <tr style=\"text-align: right;\">\n",
       "      <th></th>\n",
       "      <th>Pair1</th>\n",
       "      <th>Pair2</th>\n",
       "      <th>Jaccard_Distance</th>\n",
       "    </tr>\n",
       "  </thead>\n",
       "  <tbody>\n",
       "    <tr>\n",
       "      <th>0</th>\n",
       "      <td>Renault Kiger is stunning yet muscular SUV stance is crafted to complement your free spirit. \\n#renault #cars #nagercoil #Sportysmart #renaultcars #renaultindia #bestcars #buycarsnagercoil #morespacing  #renaultkiger https://t.co/0gaRyxca7h</td>\n",
       "      <td>https://t.co/DFfqSVOypZ \\nKiger is stunning yet muscular SUV stance is crafted to complement your free spirit.\\n#renault #cars #nagercoil #Sportysmart #renaultcars #renaultindia #bestcars #buycarsnagercoil #morespacing #renaultkiger https://t.co/LzLJ0IjpyT</td>\n",
       "      <td>0.125001</td>\n",
       "    </tr>\n",
       "    <tr>\n",
       "      <th>1</th>\n",
       "      <td>@cz_binance But what can u tell about @BeaRex_io? They worked with such brands as Spotify, Intel, Amway, Netflix, Blizzard, Sharp, Canon, Loewe, Huawei, Bentley, Audi, Renault, Oriflame. And they have the first instagram mask highly profitable game!</td>\n",
       "      <td>@AboxCrypto @socialdudesnft But what can ya claim about @BeaRexOfficial? They worked with such brands as Spotify, Intel, Amway, Netflix, Blizzard, Sharp, Canon, Loewe, Huawei, Bentley, Audi, Renault, Oriflame. And they have the first instagram mask highly valuable game! https://t.co/qFn1mX16CQ</td>\n",
       "      <td>0.250000</td>\n",
       "    </tr>\n",
       "    <tr>\n",
       "      <th>2</th>\n",
       "      <td>⚡️ Reuters: French automaker Renault resumes production in Moscow.\\n\\nOn March 22, the company decided to resume operations in the country. Renault is the majority owner of AvtoVaz, Russia’s largest car manufacturer famous for the Lada brand.</td>\n",
       "      <td>Reuters: French automaker #Renault resumes production in Moscow.\\n\\nOn March 22, the company decided to resume operations in the country. Renault is the majority owner of #AvtoVaz, Russia’s largest car manufacturer famous for the Lada brand.\\n\\n#Russia #Ukraine️ #news #BreakingNews</td>\n",
       "      <td>0.260870</td>\n",
       "    </tr>\n",
       "    <tr>\n",
       "      <th>3</th>\n",
       "      <td>ai... anything but a renault kwid i guess. https://t.co/vIRj1Cals7</td>\n",
       "      <td>8. anything but a renault kwid. https://t.co/uzJZyPFCM7</td>\n",
       "      <td>0.333336</td>\n",
       "    </tr>\n",
       "    <tr>\n",
       "      <th>4</th>\n",
       "      <td>Damon Hill (Rothmans Williams-Renault V10, FW15D). Pre-Season Testing, Estoril Circuit, 20th January 1994. #F1 https://t.co/q5Nln428r5</td>\n",
       "      <td>Damon Hill (Rothmans Williams-Renault V10, FW18). Pre-Season Testing, Estoril Circuit, Portugal, February 1996. #F1 https://t.co/JRoTUDi4ou</td>\n",
       "      <td>0.375001</td>\n",
       "    </tr>\n",
       "    <tr>\n",
       "      <th>5</th>\n",
       "      <td>Finally.\\n\\nBoulogne-Billancourt – The Board of Directors of Renault Group met today and approved the following items:\\n•Renault Group activities in its manufacturing plant in Moscow are suspended as of today.</td>\n",
       "      <td>Renault industrial activities in Russia are suspended The Board of Directors of Renault Group met today and approved the following items: - @RenaultGroup activities in its manufacturing plant in Moscow are suspended as of today. https://t.co/I5036FK7UE</td>\n",
       "      <td>0.400000</td>\n",
       "    </tr>\n",
       "    <tr>\n",
       "      <th>6</th>\n",
       "      <td>HE LEFT RED BULL, HE WENT TO RENAULT, HE'S GONE TO MCLAREN, HE'S GOING TO GET THE VICTORY NOW, ITS MCLAREN AND RICCIARDO THAT WIN THE ITALIAN GP</td>\n",
       "      <td>HE LEFT RED BULL, HE WENT TO RENAULT, HE'S GONE TO MCLAREN, HE'S GOING TO GET THE VICTORY NOW, ITS MCLAREN AND RICCIARDO THAT WIN THE ITALIAN GP IS THE MOST OVERRATED COMMENTARY EVER. THERE IS NOTHING SPECIAL ABOUT THIS. NO SOUL NO PASSION NOTHING</td>\n",
       "      <td>0.444445</td>\n",
       "    </tr>\n",
       "    <tr>\n",
       "      <th>7</th>\n",
       "      <td>Renault resumes car production in Moscow as rivals cut ties with Russia. Not that I had any plans to buy one of their cars in the first place, but now I never will.  https://t.co/hQPyHpv9Iq</td>\n",
       "      <td>Renault resumes car production in Moscow as rivals cut ties with Russia  https://t.co/tNzA4eUke2</td>\n",
       "      <td>0.454546</td>\n",
       "    </tr>\n",
       "    <tr>\n",
       "      <th>8</th>\n",
       "      <td>2023 driver line-up confirmed: Esteban Ocon 🤝 Oscar Piastri\\n\\nAfter four years as part of the Renault and Alpine family, Reserve Driver Oscar Piastri is promoted to a race seat alongside Esteban Ocon starting from 2023. https://t.co/4Fvy0kaPn7</td>\n",
       "      <td>2023 driver line-up confirmed: Esteban Ocon 🤝 Pablo Cuartero\\n\\nAfter six years as part of the Renault and Alpine family, Reserve Driver Pablo Cuartero is promoted to a race seat alongside Esteban Ocon starting from 2023. https://t.co/uwe9GdytaA</td>\n",
       "      <td>0.481482</td>\n",
       "    </tr>\n",
       "  </tbody>\n",
       "</table>\n",
       "</div>"
      ],
      "text/plain": [
       "                                                                                                                                                                                                                                                       Pair1  \\\n",
       "0           Renault Kiger is stunning yet muscular SUV stance is crafted to complement your free spirit. \\n#renault #cars #nagercoil #Sportysmart #renaultcars #renaultindia #bestcars #buycarsnagercoil #morespacing  #renaultkiger https://t.co/0gaRyxca7h   \n",
       "1  @cz_binance But what can u tell about @BeaRex_io? They worked with such brands as Spotify, Intel, Amway, Netflix, Blizzard, Sharp, Canon, Loewe, Huawei, Bentley, Audi, Renault, Oriflame. And they have the first instagram mask highly profitable game!   \n",
       "2         ⚡️ Reuters: French automaker Renault resumes production in Moscow.\\n\\nOn March 22, the company decided to resume operations in the country. Renault is the majority owner of AvtoVaz, Russia’s largest car manufacturer famous for the Lada brand.   \n",
       "3                                                                                                                                                                                         ai... anything but a renault kwid i guess. https://t.co/vIRj1Cals7   \n",
       "4                                                                                                                     Damon Hill (Rothmans Williams-Renault V10, FW15D). Pre-Season Testing, Estoril Circuit, 20th January 1994. #F1 https://t.co/q5Nln428r5   \n",
       "5                                          Finally.\\n\\nBoulogne-Billancourt – The Board of Directors of Renault Group met today and approved the following items:\\n•Renault Group activities in its manufacturing plant in Moscow are suspended as of today.   \n",
       "6                                                                                                           HE LEFT RED BULL, HE WENT TO RENAULT, HE'S GONE TO MCLAREN, HE'S GOING TO GET THE VICTORY NOW, ITS MCLAREN AND RICCIARDO THAT WIN THE ITALIAN GP   \n",
       "7                                                              Renault resumes car production in Moscow as rivals cut ties with Russia. Not that I had any plans to buy one of their cars in the first place, but now I never will.  https://t.co/hQPyHpv9Iq   \n",
       "8       2023 driver line-up confirmed: Esteban Ocon 🤝 Oscar Piastri\\n\\nAfter four years as part of the Renault and Alpine family, Reserve Driver Oscar Piastri is promoted to a race seat alongside Esteban Ocon starting from 2023. https://t.co/4Fvy0kaPn7   \n",
       "\n",
       "                                                                                                                                                                                                                                                                                                    Pair2  \\\n",
       "0                                        https://t.co/DFfqSVOypZ \\nKiger is stunning yet muscular SUV stance is crafted to complement your free spirit.\\n#renault #cars #nagercoil #Sportysmart #renaultcars #renaultindia #bestcars #buycarsnagercoil #morespacing #renaultkiger https://t.co/LzLJ0IjpyT   \n",
       "1  @AboxCrypto @socialdudesnft But what can ya claim about @BeaRexOfficial? They worked with such brands as Spotify, Intel, Amway, Netflix, Blizzard, Sharp, Canon, Loewe, Huawei, Bentley, Audi, Renault, Oriflame. And they have the first instagram mask highly valuable game! https://t.co/qFn1mX16CQ   \n",
       "2              Reuters: French automaker #Renault resumes production in Moscow.\\n\\nOn March 22, the company decided to resume operations in the country. Renault is the majority owner of #AvtoVaz, Russia’s largest car manufacturer famous for the Lada brand.\\n\\n#Russia #Ukraine️ #news #BreakingNews   \n",
       "3                                                                                                                                                                                                                                                 8. anything but a renault kwid. https://t.co/uzJZyPFCM7   \n",
       "4                                                                                                                                                             Damon Hill (Rothmans Williams-Renault V10, FW18). Pre-Season Testing, Estoril Circuit, Portugal, February 1996. #F1 https://t.co/JRoTUDi4ou   \n",
       "5                                            Renault industrial activities in Russia are suspended The Board of Directors of Renault Group met today and approved the following items: - @RenaultGroup activities in its manufacturing plant in Moscow are suspended as of today. https://t.co/I5036FK7UE   \n",
       "6                                                 HE LEFT RED BULL, HE WENT TO RENAULT, HE'S GONE TO MCLAREN, HE'S GOING TO GET THE VICTORY NOW, ITS MCLAREN AND RICCIARDO THAT WIN THE ITALIAN GP IS THE MOST OVERRATED COMMENTARY EVER. THERE IS NOTHING SPECIAL ABOUT THIS. NO SOUL NO PASSION NOTHING   \n",
       "7                                                                                                                                                                                                        Renault resumes car production in Moscow as rivals cut ties with Russia  https://t.co/tNzA4eUke2   \n",
       "8                                                   2023 driver line-up confirmed: Esteban Ocon 🤝 Pablo Cuartero\\n\\nAfter six years as part of the Renault and Alpine family, Reserve Driver Pablo Cuartero is promoted to a race seat alongside Esteban Ocon starting from 2023. https://t.co/uwe9GdytaA   \n",
       "\n",
       "   Jaccard_Distance  \n",
       "0          0.125001  \n",
       "1          0.250000  \n",
       "2          0.260870  \n",
       "3          0.333336  \n",
       "4          0.375001  \n",
       "5          0.400000  \n",
       "6          0.444445  \n",
       "7          0.454546  \n",
       "8          0.481482  "
      ]
     },
     "execution_count": 51,
     "metadata": {},
     "output_type": "execute_result"
    }
   ],
   "source": [
    "# Choose value of n for n-grams analysis\n",
    "n = 2\n",
    "\n",
    "# Compare similarity between tweets\n",
    "similar_tweets_pairs  = compare_tweets_without_thresholds(tweets_df, n)\n",
    "\n",
    "# Convert similar_tweet_pairs to DataFrame\n",
    "similar_df = pd.DataFrame(similar_tweets_pairs, columns=['Pair1', 'Pair2', 'Jaccard_Distance'])\n",
    "\n",
    "similar_df.head(9)"
   ]
  },
  {
   "attachments": {},
   "cell_type": "markdown",
   "metadata": {},
   "source": [
    "Dissimilar Tweets"
   ]
  },
  {
   "cell_type": "code",
   "execution_count": 103,
   "metadata": {},
   "outputs": [
    {
     "data": {
      "text/html": [
       "<div>\n",
       "<style scoped>\n",
       "    .dataframe tbody tr th:only-of-type {\n",
       "        vertical-align: middle;\n",
       "    }\n",
       "\n",
       "    .dataframe tbody tr th {\n",
       "        vertical-align: top;\n",
       "    }\n",
       "\n",
       "    .dataframe thead th {\n",
       "        text-align: right;\n",
       "    }\n",
       "</style>\n",
       "<table border=\"1\" class=\"dataframe\">\n",
       "  <thead>\n",
       "    <tr style=\"text-align: right;\">\n",
       "      <th></th>\n",
       "      <th>Pair1</th>\n",
       "      <th>Pair2</th>\n",
       "      <th>Jaccard_Distance</th>\n",
       "    </tr>\n",
       "  </thead>\n",
       "  <tbody>\n",
       "    <tr>\n",
       "      <th>29</th>\n",
       "      <td>French state-backed Renault resumes car production in Moscow despite condemnation of Ukraine war\\nhttps://t.co/nFGpS1LCh8</td>\n",
       "      <td>Renault resumes car production in Moscow as rivals cut ties with Russia  https://t.co/tNzA4eUke2</td>\n",
       "      <td>0.700000</td>\n",
       "    </tr>\n",
       "    <tr>\n",
       "      <th>33</th>\n",
       "      <td>Renault resumes car production in Moscow. So much for sanctions. https://t.co/3Pv0AnsQh8</td>\n",
       "      <td>Renault resumes car production in #Russia as rivals withdraw https://t.co/FBqhJb9Kou</td>\n",
       "      <td>0.714286</td>\n",
       "    </tr>\n",
       "    <tr>\n",
       "      <th>66</th>\n",
       "      <td>@WilliamsRacing Switch to Renault engine</td>\n",
       "      <td>Latest Renault F1 engine “within 10bhp” of the best https://t.co/pbGQ3R15yY</td>\n",
       "      <td>0.800000</td>\n",
       "    </tr>\n",
       "    <tr>\n",
       "      <th>86</th>\n",
       "      <td>Elio de Angelis finished up as the quickest of the Pirelli-shod contingent. The Italian 5th fastest (1 min:39.312 sec) in his Lotus-Renault-93T. \\n\\nFrench Grand Prix, (final qualifying), Paul Ricard, 16 April 1983.\\n\\n© Motorsport Images \\n\\n#F1 https://t.co/kXU9F5JTrv</td>\n",
       "      <td>Nigel Mansell (Lotus-Renault-95T) matched his best F1 qualifying position so far with an impressive 3rd place. (1 min:05.125 sec) \\n\\nSouth African Grand Prix, (final qualifying), Kyalami, 6 April 1984.\\n\\n© Motorsport Images \\n\\n#F1 https://t.co/6FphVofFtr</td>\n",
       "      <td>0.821429</td>\n",
       "    </tr>\n",
       "    <tr>\n",
       "      <th>128</th>\n",
       "      <td>Carmaker Renault said it would suspend operations at its plant in Moscow. The move comes as pressure mounts over the French company's continued presence in Russia since the country's invasion of Ukraine https://t.co/FFSwwtQnDO</td>\n",
       "      <td>Renault, the Western carmaker most exposed to the Russian market, said it would suspend operations at its plant in Moscow while it assesses options on its majority stake in Avtovaz, the country's No. 1 carmaker https://t.co/LVUlSTblz3 https://t.co/thmrElxdA5</td>\n",
       "      <td>0.848485</td>\n",
       "    </tr>\n",
       "    <tr>\n",
       "      <th>824</th>\n",
       "      <td>Damon Hill / Ayrton Senna (Rothmans Williams-Renault FW16). Pre-Season Testing, Paul Ricard Circuit, France, 28th February 1994. #F1 https://t.co/cVl4EV7WHf</td>\n",
       "      <td>Ayrton Senna tests the new Rothmans Williams-Renault FW16 for the first time at Silverstone. \\nPre-Season Testing, 24th February 1994. #F1 (Part 1 of 2)\\nhttps://t.co/9OORCyKqtu</td>\n",
       "      <td>0.944444</td>\n",
       "    </tr>\n",
       "  </tbody>\n",
       "</table>\n",
       "</div>"
      ],
      "text/plain": [
       "                                                                                                                                                                                                                                                                              Pair1  \\\n",
       "29                                                                                                                                                        French state-backed Renault resumes car production in Moscow despite condemnation of Ukraine war\\nhttps://t.co/nFGpS1LCh8   \n",
       "33                                                                                                                                                                                         Renault resumes car production in Moscow. So much for sanctions. https://t.co/3Pv0AnsQh8   \n",
       "66                                                                                                                                                                                                                                         @WilliamsRacing Switch to Renault engine   \n",
       "86   Elio de Angelis finished up as the quickest of the Pirelli-shod contingent. The Italian 5th fastest (1 min:39.312 sec) in his Lotus-Renault-93T. \\n\\nFrench Grand Prix, (final qualifying), Paul Ricard, 16 April 1983.\\n\\n© Motorsport Images \\n\\n#F1 https://t.co/kXU9F5JTrv   \n",
       "128                                              Carmaker Renault said it would suspend operations at its plant in Moscow. The move comes as pressure mounts over the French company's continued presence in Russia since the country's invasion of Ukraine https://t.co/FFSwwtQnDO   \n",
       "824                                                                                                                    Damon Hill / Ayrton Senna (Rothmans Williams-Renault FW16). Pre-Season Testing, Paul Ricard Circuit, France, 28th February 1994. #F1 https://t.co/cVl4EV7WHf   \n",
       "\n",
       "                                                                                                                                                                                                                                                                  Pair2  \\\n",
       "29                                                                                                                                                                     Renault resumes car production in Moscow as rivals cut ties with Russia  https://t.co/tNzA4eUke2   \n",
       "33                                                                                                                                                                                 Renault resumes car production in #Russia as rivals withdraw https://t.co/FBqhJb9Kou   \n",
       "66                                                                                                                                                                                          Latest Renault F1 engine “within 10bhp” of the best https://t.co/pbGQ3R15yY   \n",
       "86    Nigel Mansell (Lotus-Renault-95T) matched his best F1 qualifying position so far with an impressive 3rd place. (1 min:05.125 sec) \\n\\nSouth African Grand Prix, (final qualifying), Kyalami, 6 April 1984.\\n\\n© Motorsport Images \\n\\n#F1 https://t.co/6FphVofFtr   \n",
       "128  Renault, the Western carmaker most exposed to the Russian market, said it would suspend operations at its plant in Moscow while it assesses options on its majority stake in Avtovaz, the country's No. 1 carmaker https://t.co/LVUlSTblz3 https://t.co/thmrElxdA5   \n",
       "824                                                                                   Ayrton Senna tests the new Rothmans Williams-Renault FW16 for the first time at Silverstone. \\nPre-Season Testing, 24th February 1994. #F1 (Part 1 of 2)\\nhttps://t.co/9OORCyKqtu   \n",
       "\n",
       "     Jaccard_Distance  \n",
       "29           0.700000  \n",
       "33           0.714286  \n",
       "66           0.800000  \n",
       "86           0.821429  \n",
       "128          0.848485  \n",
       "824          0.944444  "
      ]
     },
     "execution_count": 103,
     "metadata": {},
     "output_type": "execute_result"
    }
   ],
   "source": [
    "# Filter for rows where 'Jaccard_Distance' is less than or equal to 0.95\n",
    "dissimilar_df = similar_df[similar_df['Jaccard_Distance'] <= 0.95]\n",
    "\n",
    "#filter the dataframe to get the 29, 33, 66, 86, 128th row\n",
    "\n",
    "dissimilar_df.iloc[[29, 33, 66, 86, 128, 824]]\n"
   ]
  },
  {
   "attachments": {},
   "cell_type": "markdown",
   "metadata": {},
   "source": [
    "## Conclusion for Tweets: \n",
    "\n",
    "Many '1's might lead to biased average jaccard distance, adding a 0.5 thresold seems to be a good solution. However, when N is getting large, because of the length of tweets text is usually small, the number of similar pairs(jaccard distance <=0.5) is also getting smaller. \n",
    "\n",
    "Therefore, a good trade-off 'N' for Tweets Text is when 2. I will choose N=2 as my optimal number of grams"
   ]
  },
  {
   "attachments": {},
   "cell_type": "markdown",
   "metadata": {},
   "source": [
    "# News --text\n"
   ]
  },
  {
   "cell_type": "code",
   "execution_count": 76,
   "metadata": {},
   "outputs": [],
   "source": [
    "# Clean the text column in the news_df dataframe\n",
    "news_df['text_no_url'] = news_df['text'].apply(lambda x: re.sub(r'(?:\\@|http?\\://|https?\\://|www)\\S+','',str(x)))\n",
    "news_df['text_no_newline'] = news_df['text_no_url'].apply(lambda x:re.sub(r'(?:\\n)','',str(x)))\n",
    "news_df['text_new'] = news_df['text_no_newline'].apply(lambda x: re.sub(r'(?:\\B#\\w*[a-zA-Z]+\\w*)','',str(x)))"
   ]
  },
  {
   "cell_type": "code",
   "execution_count": 77,
   "metadata": {},
   "outputs": [
    {
     "data": {
      "text/plain": [
       "(1018, 8)"
      ]
     },
     "execution_count": 77,
     "metadata": {},
     "output_type": "execute_result"
    }
   ],
   "source": [
    "# drop the duplicate News\n",
    "\n",
    "news_df.drop_duplicates(subset=['text_new'], inplace=True)\n",
    "news_df.shape"
   ]
  },
  {
   "cell_type": "code",
   "execution_count": 79,
   "metadata": {},
   "outputs": [],
   "source": [
    "# apply the clean_text function to the text_new column\n",
    "\n",
    "news_df['clean_text'] = news_df['text_new'].apply(clean_text)"
   ]
  },
  {
   "attachments": {},
   "cell_type": "markdown",
   "metadata": {},
   "source": [
    "Since the News text normally has large number of words, which will lead to large number of grams. I start calling the find_best_ngram function starting from ngram=2 instead of 1. So I can reach to higher number of grams=14 without consuming too much computational power\n",
    "\n",
    "Additionally, there is a threshold(Jaccard Distance <=0.5) embeded in the find_best_ngram function. This will help aviod generating biased average jaccard distance when there are too many high jaccard distance text pairs."
   ]
  },
  {
   "cell_type": "code",
   "execution_count": null,
   "metadata": {},
   "outputs": [],
   "source": [
    "x, y = find_best_ngram(news_df, ngram_range=(2, 15))"
   ]
  },
  {
   "cell_type": "code",
   "execution_count": 147,
   "metadata": {},
   "outputs": [
    {
     "data": {
      "text/html": [
       "<div>\n",
       "<style scoped>\n",
       "    .dataframe tbody tr th:only-of-type {\n",
       "        vertical-align: middle;\n",
       "    }\n",
       "\n",
       "    .dataframe tbody tr th {\n",
       "        vertical-align: top;\n",
       "    }\n",
       "\n",
       "    .dataframe thead th {\n",
       "        text-align: right;\n",
       "    }\n",
       "</style>\n",
       "<table border=\"1\" class=\"dataframe\">\n",
       "  <thead>\n",
       "    <tr style=\"text-align: right;\">\n",
       "      <th></th>\n",
       "      <th>n-gram</th>\n",
       "      <th>Jaccard Distance</th>\n",
       "    </tr>\n",
       "  </thead>\n",
       "  <tbody>\n",
       "    <tr>\n",
       "      <th>0</th>\n",
       "      <td>2</td>\n",
       "      <td>22.986230</td>\n",
       "    </tr>\n",
       "    <tr>\n",
       "      <th>1</th>\n",
       "      <td>3</td>\n",
       "      <td>24.177687</td>\n",
       "    </tr>\n",
       "    <tr>\n",
       "      <th>2</th>\n",
       "      <td>4</td>\n",
       "      <td>27.294702</td>\n",
       "    </tr>\n",
       "    <tr>\n",
       "      <th>3</th>\n",
       "      <td>5</td>\n",
       "      <td>28.309807</td>\n",
       "    </tr>\n",
       "    <tr>\n",
       "      <th>4</th>\n",
       "      <td>6</td>\n",
       "      <td>29.568475</td>\n",
       "    </tr>\n",
       "    <tr>\n",
       "      <th>5</th>\n",
       "      <td>7</td>\n",
       "      <td>30.810216</td>\n",
       "    </tr>\n",
       "    <tr>\n",
       "      <th>6</th>\n",
       "      <td>8</td>\n",
       "      <td>31.792709</td>\n",
       "    </tr>\n",
       "    <tr>\n",
       "      <th>7</th>\n",
       "      <td>9</td>\n",
       "      <td>33.230797</td>\n",
       "    </tr>\n",
       "    <tr>\n",
       "      <th>8</th>\n",
       "      <td>10</td>\n",
       "      <td>34.199262</td>\n",
       "    </tr>\n",
       "    <tr>\n",
       "      <th>9</th>\n",
       "      <td>11</td>\n",
       "      <td>32.868250</td>\n",
       "    </tr>\n",
       "    <tr>\n",
       "      <th>10</th>\n",
       "      <td>12</td>\n",
       "      <td>32.717281</td>\n",
       "    </tr>\n",
       "    <tr>\n",
       "      <th>11</th>\n",
       "      <td>13</td>\n",
       "      <td>33.444078</td>\n",
       "    </tr>\n",
       "    <tr>\n",
       "      <th>12</th>\n",
       "      <td>14</td>\n",
       "      <td>34.221052</td>\n",
       "    </tr>\n",
       "  </tbody>\n",
       "</table>\n",
       "</div>"
      ],
      "text/plain": [
       "    n-gram  Jaccard Distance\n",
       "0        2         22.986230\n",
       "1        3         24.177687\n",
       "2        4         27.294702\n",
       "3        5         28.309807\n",
       "4        6         29.568475\n",
       "5        7         30.810216\n",
       "6        8         31.792709\n",
       "7        9         33.230797\n",
       "8       10         34.199262\n",
       "9       11         32.868250\n",
       "10      12         32.717281\n",
       "11      13         33.444078\n",
       "12      14         34.221052"
      ]
     },
     "execution_count": 147,
     "metadata": {},
     "output_type": "execute_result"
    }
   ],
   "source": [
    "# create a new dataframe to store the results\n",
    "\n",
    "df_newstext = pd.DataFrame({'n-gram': x, 'Jaccard Distance': y})\n",
    "\n",
    "df_newstext"
   ]
  },
  {
   "cell_type": "code",
   "execution_count": 144,
   "metadata": {},
   "outputs": [
    {
     "data": {
      "image/png": "[encoded data removed]",
      "text/plain": [
       "<Figure size 640x480 with 1 Axes>"
      ]
     },
     "metadata": {},
     "output_type": "display_data"
    }
   ],
   "source": [
    "# print the best n-gram\n",
    "\n",
    "import matplotlib.pyplot as plt\n",
    "\n",
    "plt.plot(x, y)\n",
    "plt.xlabel('n-gram')\n",
    "plt.ylabel('Jaccard Distance')\n",
    "plt.title('Jaccard Distance for News Text vs n-gram')\n",
    "plt.show()\n"
   ]
  },
  {
   "attachments": {},
   "cell_type": "markdown",
   "metadata": {},
   "source": [
    "###  Therefore, I choose n=4 as my optimal number of grams"
   ]
  },
  {
   "cell_type": "code",
   "execution_count": 80,
   "metadata": {},
   "outputs": [],
   "source": [
    "n = 4\n",
    "# Compare similarity between tweets\n",
    "similar_newstext_pairs, dissimilar_newstext_pairs = compare_tweets(news_df, 4)"
   ]
  },
  {
   "cell_type": "code",
   "execution_count": 81,
   "metadata": {},
   "outputs": [],
   "source": [
    "# Convert similar_tweet_pairs to DataFrame\n",
    "similar_df_newstext = pd.DataFrame(similar_newstext_pairs, columns=['Pair1', 'Pair2', 'Jaccard_Distance'])\n",
    "# Convert dissimilar_tweet_pairs to DataFrame\n",
    "dissimilar_df_newstext = pd.DataFrame(dissimilar_newstext_pairs, columns=['Pair1', 'Pair2', 'Jaccard_Distance'])"
   ]
  },
  {
   "attachments": {},
   "cell_type": "markdown",
   "metadata": {},
   "source": [
    "Similar News text:"
   ]
  },
  {
   "cell_type": "code",
   "execution_count": 85,
   "metadata": {},
   "outputs": [
    {
     "data": {
      "text/html": [
       "<div>\n",
       "<style scoped>\n",
       "    .dataframe tbody tr th:only-of-type {\n",
       "        vertical-align: middle;\n",
       "    }\n",
       "\n",
       "    .dataframe tbody tr th {\n",
       "        vertical-align: top;\n",
       "    }\n",
       "\n",
       "    .dataframe thead th {\n",
       "        text-align: right;\n",
       "    }\n",
       "</style>\n",
       "<table border=\"1\" class=\"dataframe\">\n",
       "  <thead>\n",
       "    <tr style=\"text-align: right;\">\n",
       "      <th></th>\n",
       "      <th>Pair1</th>\n",
       "      <th>Pair2</th>\n",
       "      <th>Jaccard_Distance</th>\n",
       "    </tr>\n",
       "  </thead>\n",
       "  <tbody>\n",
       "    <tr>\n",
       "      <th>2</th>\n",
       "      <td>Toyota Urban Cruiser Car Discount Offers in Kulgam for March 2022 Explore  Wednesday, 16 March 2022 Log in/Sign up SearchNotificationsTop SectionsAuto NewsCar NewsBike NewsLatestAuto NewsPhotosVideosElectric VehiclesTrendingMy ReadsOffersnewFind carsFind bikesCompare carsCompare bikesEMI calculatorDealersExplore AutoAbout UsContact UsSITEMAPRSSTerms of UsePrivacy PolicyCopyright © HT Media Limited All rights reserved.HomeOffersnewFind carsFind bikesCompare carsCompare bikesEMI calculatorDeal...</td>\n",
       "      <td>Toyota Urban Cruiser Car Discount Offers in Mayurbhanja for March 2022 Explore  Wednesday, 16 March 2022 Log in/Sign up SearchNotificationsTop SectionsAuto NewsCar NewsBike NewsLatestAuto NewsPhotosVideosElectric VehiclesTrendingMy ReadsOffersnewFind carsFind bikesCompare carsCompare bikesEMI calculatorDealersExplore AutoAbout UsContact UsSITEMAPRSSTerms of UsePrivacy PolicyCopyright © HT Media Limited All rights reserved.HomeOffersnewFind carsFind bikesCompare carsCompare bikesEMI calculato...</td>\n",
       "      <td>0.013986</td>\n",
       "    </tr>\n",
       "    <tr>\n",
       "      <th>32</th>\n",
       "      <td>Toyota Urban Cruiser Car Discount Offers in Nirjuli for March 2022 Explore  Wednesday, 16 March 2022 Log in/Sign up SearchNotificationsTop SectionsAuto NewsCar NewsBike NewsLatestAuto NewsPhotosVideosElectric VehiclesTrendingMy ReadsOffersnewFind carsFind bikesCompare carsCompare bikesEMI calculatorDealersExplore AutoAbout UsContact UsSITEMAPRSSTerms of UsePrivacy PolicyCopyright © HT Media Limited All rights reserved.HomeOffersnewFind carsFind bikesCompare carsCompare bikesEMI calculatorDea...</td>\n",
       "      <td>Toyota Urban Cruiser Car Discount Offers in Jajpur Road for March 2022 Explore  Wednesday, 16 March 2022 Log in/Sign up SearchNotificationsTop SectionsAuto NewsCar NewsBike NewsLatestAuto NewsPhotosVideosElectric VehiclesTrendingMy ReadsOffersnewFind carsFind bikesCompare carsCompare bikesEMI calculatorDealersExplore AutoAbout UsContact UsSITEMAPRSSTerms of UsePrivacy PolicyCopyright © HT Media Limited All rights reserved.HomeOffersnewFind carsFind bikesCompare carsCompare bikesEMI calculato...</td>\n",
       "      <td>0.015238</td>\n",
       "    </tr>\n",
       "    <tr>\n",
       "      <th>52</th>\n",
       "      <td>Toyota Urban Cruiser Car Discount Offers in Nandurbar for March 2022 Explore  Wednesday, 16 March 2022 Log in/Sign up SearchNotificationsTop SectionsAuto NewsCar NewsBike NewsLatestAuto NewsPhotosVideosElectric VehiclesTrendingMy ReadsOffersnewFind carsFind bikesCompare carsCompare bikesEMI calculatorDealersExplore AutoAbout UsContact UsSITEMAPRSSTerms of UsePrivacy PolicyCopyright © HT Media Limited All rights reserved.HomeOffersnewFind carsFind bikesCompare carsCompare bikesEMI calculatorD...</td>\n",
       "      <td>Toyota Urban Cruiser Car Discount Offers in Nanded for March 2022 Explore  Wednesday, 16 March 2022 Log in/Sign up SearchNotificationsTop SectionsAuto NewsCar NewsBike NewsLatestAuto NewsPhotosVideosElectric VehiclesTrendingMy ReadsOffersnewFind carsFind bikesCompare carsCompare bikesEMI calculatorDealersExplore AutoAbout UsContact UsSITEMAPRSSTerms of UsePrivacy PolicyCopyright © HT Media Limited All rights reserved.HomeOffersnewFind carsFind bikesCompare carsCompare bikesEMI calculatorDeal...</td>\n",
       "      <td>0.055416</td>\n",
       "    </tr>\n",
       "    <tr>\n",
       "      <th>72</th>\n",
       "      <td>Toyota Urban Cruiser Car Discount Offers in Ghogha for March 2022 Explore  Wednesday, 16 March 2022 Log in/Sign up SearchNotificationsTop SectionsAuto NewsCar NewsBike NewsLatestAuto NewsPhotosVideosElectric VehiclesTrendingMy ReadsOffersnewFind carsFind bikesCompare carsCompare bikesEMI calculatorDealersExplore AutoAbout UsContact UsSITEMAPRSSTerms of UsePrivacy PolicyCopyright © HT Media Limited All rights reserved.HomeOffersnewFind carsFind bikesCompare carsCompare bikesEMI calculatorDeal...</td>\n",
       "      <td>Toyota Urban Cruiser Car Discount Offers in Kapadwanj for March 2022 Explore  Wednesday, 16 March 2022 Log in/Sign up SearchNotificationsTop SectionsAuto NewsCar NewsBike NewsLatestAuto NewsPhotosVideosElectric VehiclesTrendingMy ReadsOffersnewFind carsFind bikesCompare carsCompare bikesEMI calculatorDealersExplore AutoAbout UsContact UsSITEMAPRSSTerms of UsePrivacy PolicyCopyright © HT Media Limited All rights reserved.HomeOffersnewFind carsFind bikesCompare carsCompare bikesEMI calculatorD...</td>\n",
       "      <td>0.068536</td>\n",
       "    </tr>\n",
       "  </tbody>\n",
       "</table>\n",
       "</div>"
      ],
      "text/plain": [
       "                                                                                                                                                                                                                                                                                                                                                                                                                                                                                                                  Pair1  \\\n",
       "2   Toyota Urban Cruiser Car Discount Offers in Kulgam for March 2022 Explore  Wednesday, 16 March 2022 Log in/Sign up SearchNotificationsTop SectionsAuto NewsCar NewsBike NewsLatestAuto NewsPhotosVideosElectric VehiclesTrendingMy ReadsOffersnewFind carsFind bikesCompare carsCompare bikesEMI calculatorDealersExplore AutoAbout UsContact UsSITEMAPRSSTerms of UsePrivacy PolicyCopyright © HT Media Limited All rights reserved.HomeOffersnewFind carsFind bikesCompare carsCompare bikesEMI calculatorDeal...   \n",
       "32  Toyota Urban Cruiser Car Discount Offers in Nirjuli for March 2022 Explore  Wednesday, 16 March 2022 Log in/Sign up SearchNotificationsTop SectionsAuto NewsCar NewsBike NewsLatestAuto NewsPhotosVideosElectric VehiclesTrendingMy ReadsOffersnewFind carsFind bikesCompare carsCompare bikesEMI calculatorDealersExplore AutoAbout UsContact UsSITEMAPRSSTerms of UsePrivacy PolicyCopyright © HT Media Limited All rights reserved.HomeOffersnewFind carsFind bikesCompare carsCompare bikesEMI calculatorDea...   \n",
       "52  Toyota Urban Cruiser Car Discount Offers in Nandurbar for March 2022 Explore  Wednesday, 16 March 2022 Log in/Sign up SearchNotificationsTop SectionsAuto NewsCar NewsBike NewsLatestAuto NewsPhotosVideosElectric VehiclesTrendingMy ReadsOffersnewFind carsFind bikesCompare carsCompare bikesEMI calculatorDealersExplore AutoAbout UsContact UsSITEMAPRSSTerms of UsePrivacy PolicyCopyright © HT Media Limited All rights reserved.HomeOffersnewFind carsFind bikesCompare carsCompare bikesEMI calculatorD...   \n",
       "72  Toyota Urban Cruiser Car Discount Offers in Ghogha for March 2022 Explore  Wednesday, 16 March 2022 Log in/Sign up SearchNotificationsTop SectionsAuto NewsCar NewsBike NewsLatestAuto NewsPhotosVideosElectric VehiclesTrendingMy ReadsOffersnewFind carsFind bikesCompare carsCompare bikesEMI calculatorDealersExplore AutoAbout UsContact UsSITEMAPRSSTerms of UsePrivacy PolicyCopyright © HT Media Limited All rights reserved.HomeOffersnewFind carsFind bikesCompare carsCompare bikesEMI calculatorDeal...   \n",
       "\n",
       "                                                                                                                                                                                                                                                                                                                                                                                                                                                                                                                  Pair2  \\\n",
       "2   Toyota Urban Cruiser Car Discount Offers in Mayurbhanja for March 2022 Explore  Wednesday, 16 March 2022 Log in/Sign up SearchNotificationsTop SectionsAuto NewsCar NewsBike NewsLatestAuto NewsPhotosVideosElectric VehiclesTrendingMy ReadsOffersnewFind carsFind bikesCompare carsCompare bikesEMI calculatorDealersExplore AutoAbout UsContact UsSITEMAPRSSTerms of UsePrivacy PolicyCopyright © HT Media Limited All rights reserved.HomeOffersnewFind carsFind bikesCompare carsCompare bikesEMI calculato...   \n",
       "32  Toyota Urban Cruiser Car Discount Offers in Jajpur Road for March 2022 Explore  Wednesday, 16 March 2022 Log in/Sign up SearchNotificationsTop SectionsAuto NewsCar NewsBike NewsLatestAuto NewsPhotosVideosElectric VehiclesTrendingMy ReadsOffersnewFind carsFind bikesCompare carsCompare bikesEMI calculatorDealersExplore AutoAbout UsContact UsSITEMAPRSSTerms of UsePrivacy PolicyCopyright © HT Media Limited All rights reserved.HomeOffersnewFind carsFind bikesCompare carsCompare bikesEMI calculato...   \n",
       "52  Toyota Urban Cruiser Car Discount Offers in Nanded for March 2022 Explore  Wednesday, 16 March 2022 Log in/Sign up SearchNotificationsTop SectionsAuto NewsCar NewsBike NewsLatestAuto NewsPhotosVideosElectric VehiclesTrendingMy ReadsOffersnewFind carsFind bikesCompare carsCompare bikesEMI calculatorDealersExplore AutoAbout UsContact UsSITEMAPRSSTerms of UsePrivacy PolicyCopyright © HT Media Limited All rights reserved.HomeOffersnewFind carsFind bikesCompare carsCompare bikesEMI calculatorDeal...   \n",
       "72  Toyota Urban Cruiser Car Discount Offers in Kapadwanj for March 2022 Explore  Wednesday, 16 March 2022 Log in/Sign up SearchNotificationsTop SectionsAuto NewsCar NewsBike NewsLatestAuto NewsPhotosVideosElectric VehiclesTrendingMy ReadsOffersnewFind carsFind bikesCompare carsCompare bikesEMI calculatorDealersExplore AutoAbout UsContact UsSITEMAPRSSTerms of UsePrivacy PolicyCopyright © HT Media Limited All rights reserved.HomeOffersnewFind carsFind bikesCompare carsCompare bikesEMI calculatorD...   \n",
       "\n",
       "    Jaccard_Distance  \n",
       "2           0.013986  \n",
       "32          0.015238  \n",
       "52          0.055416  \n",
       "72          0.068536  "
      ]
     },
     "execution_count": 85,
     "metadata": {},
     "output_type": "execute_result"
    }
   ],
   "source": [
    "similar_df_newstext.iloc[[2,32,52,72]]"
   ]
  },
  {
   "attachments": {},
   "cell_type": "markdown",
   "metadata": {},
   "source": [
    "In order to get a clearer view on the similarity check, I decided to print the rows that have distinct jaccard distance"
   ]
  },
  {
   "cell_type": "code",
   "execution_count": 111,
   "metadata": {},
   "outputs": [
    {
     "data": {
      "text/html": [
       "<div>\n",
       "<style scoped>\n",
       "    .dataframe tbody tr th:only-of-type {\n",
       "        vertical-align: middle;\n",
       "    }\n",
       "\n",
       "    .dataframe tbody tr th {\n",
       "        vertical-align: top;\n",
       "    }\n",
       "\n",
       "    .dataframe thead th {\n",
       "        text-align: right;\n",
       "    }\n",
       "</style>\n",
       "<table border=\"1\" class=\"dataframe\">\n",
       "  <thead>\n",
       "    <tr style=\"text-align: right;\">\n",
       "      <th></th>\n",
       "      <th>Pair1</th>\n",
       "      <th>Pair2</th>\n",
       "      <th>Jaccard_Distance</th>\n",
       "    </tr>\n",
       "  </thead>\n",
       "  <tbody>\n",
       "    <tr>\n",
       "      <th>0</th>\n",
       "      <td>Toyota Urban Cruiser Car Discount Offers in Kulgam for March 2022 Explore  Wednesday, 16 March 2022 Log in/Sign up SearchNotificationsTop SectionsAuto NewsCar NewsBike NewsLatestAuto NewsPhotosVideosElectric VehiclesTrendingMy ReadsOffersnewFind carsFind bikesCompare carsCompare bikesEMI calculatorDealersExplore AutoAbout UsContact UsSITEMAPRSSTerms of UsePrivacy PolicyCopyright © HT Media Limited All rights reserved.HomeOffersnewFind carsFind bikesCompare carsCompare bikesEMI calculatorDeal...</td>\n",
       "      <td>Toyota Urban Cruiser Car Discount Offers in Kandhamal for March 2022 Explore  Wednesday, 16 March 2022 Log in/Sign up SearchNotificationsTop SectionsAuto NewsCar NewsBike NewsLatestAuto NewsPhotosVideosElectric VehiclesTrendingMy ReadsOffersnewFind carsFind bikesCompare carsCompare bikesEMI calculatorDealersExplore AutoAbout UsContact UsSITEMAPRSSTerms of UsePrivacy PolicyCopyright © HT Media Limited All rights reserved.HomeOffersnewFind carsFind bikesCompare carsCompare bikesEMI calculatorD...</td>\n",
       "      <td>0.013456</td>\n",
       "    </tr>\n",
       "    <tr>\n",
       "      <th>28</th>\n",
       "      <td>Toyota Urban Cruiser Car Discount Offers in Kulgam for March 2022 Explore  Wednesday, 16 March 2022 Log in/Sign up SearchNotificationsTop SectionsAuto NewsCar NewsBike NewsLatestAuto NewsPhotosVideosElectric VehiclesTrendingMy ReadsOffersnewFind carsFind bikesCompare carsCompare bikesEMI calculatorDealersExplore AutoAbout UsContact UsSITEMAPRSSTerms of UsePrivacy PolicyCopyright © HT Media Limited All rights reserved.HomeOffersnewFind carsFind bikesCompare carsCompare bikesEMI calculatorDeal...</td>\n",
       "      <td>Toyota Urban Cruiser Car Discount Offers in Jajpur Road for March 2022 Explore  Wednesday, 16 March 2022 Log in/Sign up SearchNotificationsTop SectionsAuto NewsCar NewsBike NewsLatestAuto NewsPhotosVideosElectric VehiclesTrendingMy ReadsOffersnewFind carsFind bikesCompare carsCompare bikesEMI calculatorDealersExplore AutoAbout UsContact UsSITEMAPRSSTerms of UsePrivacy PolicyCopyright © HT Media Limited All rights reserved.HomeOffersnewFind carsFind bikesCompare carsCompare bikesEMI calculato...</td>\n",
       "      <td>0.014661</td>\n",
       "    </tr>\n",
       "    <tr>\n",
       "      <th>36</th>\n",
       "      <td>Toyota Urban Cruiser Car Discount Offers in Kulgam for March 2022 Explore  Wednesday, 16 March 2022 Log in/Sign up SearchNotificationsTop SectionsAuto NewsCar NewsBike NewsLatestAuto NewsPhotosVideosElectric VehiclesTrendingMy ReadsOffersnewFind carsFind bikesCompare carsCompare bikesEMI calculatorDealersExplore AutoAbout UsContact UsSITEMAPRSSTerms of UsePrivacy PolicyCopyright © HT Media Limited All rights reserved.HomeOffersnewFind carsFind bikesCompare carsCompare bikesEMI calculatorDeal...</td>\n",
       "      <td>Toyota Urban Cruiser Car Discount Offers in Khurda Andhra Pradesh for March 2022 Explore  Wednesday, 16 March 2022 Log in/Sign up SearchNotificationsTop SectionsAuto NewsCar NewsBike NewsLatestAuto NewsPhotosVideosElectric VehiclesTrendingMy ReadsOffersnewFind carsFind bikesCompare carsCompare bikesEMI calculatorDealersExplore AutoAbout UsContact UsSITEMAPRSSTerms of UsePrivacy PolicyCopyright © HT Media Limited All rights reserved.HomeOffersnewFind carsFind bikesCompare carsCompare bikesEMI...</td>\n",
       "      <td>0.015863</td>\n",
       "    </tr>\n",
       "    <tr>\n",
       "      <th>44</th>\n",
       "      <td>Toyota Urban Cruiser Car Discount Offers in Khurda Andhra Pradesh for March 2022 Explore  Wednesday, 16 March 2022 Log in/Sign up SearchNotificationsTop SectionsAuto NewsCar NewsBike NewsLatestAuto NewsPhotosVideosElectric VehiclesTrendingMy ReadsOffersnewFind carsFind bikesCompare carsCompare bikesEMI calculatorDealersExplore AutoAbout UsContact UsSITEMAPRSSTerms of UsePrivacy PolicyCopyright © HT Media Limited All rights reserved.HomeOffersnewFind carsFind bikesCompare carsCompare bikesEMI...</td>\n",
       "      <td>Toyota Urban Cruiser Car Discount Offers in Jajpur Road for March 2022 Explore  Wednesday, 16 March 2022 Log in/Sign up SearchNotificationsTop SectionsAuto NewsCar NewsBike NewsLatestAuto NewsPhotosVideosElectric VehiclesTrendingMy ReadsOffersnewFind carsFind bikesCompare carsCompare bikesEMI calculatorDealersExplore AutoAbout UsContact UsSITEMAPRSSTerms of UsePrivacy PolicyCopyright © HT Media Limited All rights reserved.HomeOffersnewFind carsFind bikesCompare carsCompare bikesEMI calculato...</td>\n",
       "      <td>0.017063</td>\n",
       "    </tr>\n",
       "    <tr>\n",
       "      <th>45</th>\n",
       "      <td>Porsche Cayenne Coupe Car Discount Offers in Jamshedpur for March 2022 Explore  Wednesday, 16 March 2022 Log in/Sign up SearchNotificationsTop SectionsAuto NewsCar NewsBike NewsLatestAuto NewsPhotosVideosElectric VehiclesTrendingMy ReadsOffersnewFind carsFind bikesCompare carsCompare bikesEMI calculatorDealersExplore AutoAbout UsContact UsSITEMAPRSSTerms of UsePrivacy PolicyCopyright © HT Media Limited All rights reserved.HomeOffersnewFind carsFind bikesCompare carsCompare bikesEMI calculato...</td>\n",
       "      <td>Porsche Cayenne Car Discount Offers in Jamshedpur for March 2022 Explore  Wednesday, 16 March 2022 Log in/Sign up SearchNotificationsTop SectionsAuto NewsCar NewsBike NewsLatestAuto NewsPhotosVideosElectric VehiclesTrendingMy ReadsOffersnewFind carsFind bikesCompare carsCompare bikesEMI calculatorDealersExplore AutoAbout UsContact UsSITEMAPRSSTerms of UsePrivacy PolicyCopyright © HT Media Limited All rights reserved.HomeOffersnewFind carsFind bikesCompare carsCompare bikesEMI calculatorDeale...</td>\n",
       "      <td>0.018135</td>\n",
       "    </tr>\n",
       "    <tr>\n",
       "      <th>46</th>\n",
       "      <td>White grizzly bear spotted in Banff National Park | CTV News             Skip to Main ContentSkip to Section LinksCTV NewsMobileCTV Live Now:                                      CTV News ChannelTRENDING CoronavirusRussia-UkraineSwedenSearchSearch CTV NewsX                                   NEWS                                                                  VIDEO                                                                  LOCAL                                                       ...</td>\n",
       "      <td>Mexico-U.S. cross-border tunnel discovered | CTV News             Skip to Main ContentSkip to Section LinksCTV NewsMobileCTV Live Now:                                      CTV News ChannelTRENDING CoronavirusRussia-UkraineSwedenSearchSearch CTV NewsX                                   NEWS                                                                  VIDEO                                                                  LOCAL                                                              ...</td>\n",
       "      <td>0.019108</td>\n",
       "    </tr>\n",
       "    <tr>\n",
       "      <th>47</th>\n",
       "      <td>Porsche Cayenne Car Discount Offers in Ahmedabad for March 2022 Explore  Wednesday, 16 March 2022 Log in/Sign up SearchNotificationsTop SectionsAuto NewsCar NewsBike NewsLatestAuto NewsPhotosVideosElectric VehiclesTrendingMy ReadsOffersnewFind carsFind bikesCompare carsCompare bikesEMI calculatorDealersExplore AutoAbout UsContact UsSITEMAPRSSTerms of UsePrivacy PolicyCopyright © HT Media Limited All rights reserved.HomeOffersnewFind carsFind bikesCompare carsCompare bikesEMI calculatorDealer...</td>\n",
       "      <td>Audi A8 L Car Discount Offers in Ahmedabad for March 2022 Explore  Sunday, 13 March 2022 Log in/Sign up SearchNotificationsTop SectionsAuto NewsCar NewsBike NewsLatestAuto NewsPhotosVideosElectric VehiclesTrendingMy ReadsOffersnewFind carsFind bikesCompare carsCompare bikesEMI calculatorDealersExplore AutoAbout UsContact UsSITEMAPRSSTerms of UsePrivacy PolicyCopyright © HT Media Limited All rights reserved.HomeOffersnewFind carsFind bikesCompare carsCompare bikesEMI calculatorDealersCar News...</td>\n",
       "      <td>0.032333</td>\n",
       "    </tr>\n",
       "    <tr>\n",
       "      <th>48</th>\n",
       "      <td>Toyota Urban Cruiser Car Discount Offers in Noorpur for March 2022 Explore  Wednesday, 16 March 2022 Log in/Sign up SearchNotificationsTop SectionsAuto NewsCar NewsBike NewsLatestAuto NewsPhotosVideosElectric VehiclesTrendingMy ReadsOffersnewFind carsFind bikesCompare carsCompare bikesEMI calculatorDealersExplore AutoAbout UsContact UsSITEMAPRSSTerms of UsePrivacy PolicyCopyright © HT Media Limited All rights reserved.HomeOffersnewFind carsFind bikesCompare carsCompare bikesEMI calculatorDea...</td>\n",
       "      <td>Toyota Urban Cruiser Car Discount Offers in Hardoi for March 2022 Explore  Wednesday, 16 March 2022 Log in/Sign up SearchNotificationsTop SectionsAuto NewsCar NewsBike NewsLatestAuto NewsPhotosVideosElectric VehiclesTrendingMy ReadsOffersnewFind carsFind bikesCompare carsCompare bikesEMI calculatorDealersExplore AutoAbout UsContact UsSITEMAPRSSTerms of UsePrivacy PolicyCopyright © HT Media Limited All rights reserved.HomeOffersnewFind carsFind bikesCompare carsCompare bikesEMI calculatorDeal...</td>\n",
       "      <td>0.040665</td>\n",
       "    </tr>\n",
       "    <tr>\n",
       "      <th>51</th>\n",
       "      <td>Toyota Urban Cruiser Car Discount Offers in Nandurbar for March 2022 Explore  Wednesday, 16 March 2022 Log in/Sign up SearchNotificationsTop SectionsAuto NewsCar NewsBike NewsLatestAuto NewsPhotosVideosElectric VehiclesTrendingMy ReadsOffersnewFind carsFind bikesCompare carsCompare bikesEMI calculatorDealersExplore AutoAbout UsContact UsSITEMAPRSSTerms of UsePrivacy PolicyCopyright © HT Media Limited All rights reserved.HomeOffersnewFind carsFind bikesCompare carsCompare bikesEMI calculatorD...</td>\n",
       "      <td>Toyota Urban Cruiser Car Discount Offers in Malsiras for March 2022 Explore  Wednesday, 16 March 2022 Log in/Sign up SearchNotificationsTop SectionsAuto NewsCar NewsBike NewsLatestAuto NewsPhotosVideosElectric VehiclesTrendingMy ReadsOffersnewFind carsFind bikesCompare carsCompare bikesEMI calculatorDealersExplore AutoAbout UsContact UsSITEMAPRSSTerms of UsePrivacy PolicyCopyright © HT Media Limited All rights reserved.HomeOffersnewFind carsFind bikesCompare carsCompare bikesEMI calculatorDe...</td>\n",
       "      <td>0.048035</td>\n",
       "    </tr>\n",
       "    <tr>\n",
       "      <th>57</th>\n",
       "      <td>Mahindra Bolero Neo Car Discount Offers in Tirap for March 2022 Explore  Tuesday, 15 March 2022 Log in/Sign up SearchNotificationsTop SectionsAuto NewsCar NewsBike NewsLatestAuto NewsPhotosVideosElectric VehiclesTrendingMy ReadsOffersnewFind carsFind bikesCompare carsCompare bikesEMI calculatorDealersExplore AutoAbout UsContact UsSITEMAPRSSTerms of UsePrivacy PolicyCopyright © HT Media Limited All rights reserved.HomeOffersnewFind carsFind bikesCompare carsCompare bikesEMI calculatorDealersC...</td>\n",
       "      <td>Mahindra Bolero Neo Car Discount Offers in Sundergarh for March 2022 Explore  Tuesday, 15 March 2022 Log in/Sign up SearchNotificationsTop SectionsAuto NewsCar NewsBike NewsLatestAuto NewsPhotosVideosElectric VehiclesTrendingMy ReadsOffersnewFind carsFind bikesCompare carsCompare bikesEMI calculatorDealersExplore AutoAbout UsContact UsSITEMAPRSSTerms of UsePrivacy PolicyCopyright © HT Media Limited All rights reserved.HomeOffersnewFind carsFind bikesCompare carsCompare bikesEMI calculatorDea...</td>\n",
       "      <td>0.053452</td>\n",
       "    </tr>\n",
       "  </tbody>\n",
       "</table>\n",
       "</div>"
      ],
      "text/plain": [
       "                                                                                                                                                                                                                                                                                                                                                                                                                                                                                                                  Pair1  \\\n",
       "0   Toyota Urban Cruiser Car Discount Offers in Kulgam for March 2022 Explore  Wednesday, 16 March 2022 Log in/Sign up SearchNotificationsTop SectionsAuto NewsCar NewsBike NewsLatestAuto NewsPhotosVideosElectric VehiclesTrendingMy ReadsOffersnewFind carsFind bikesCompare carsCompare bikesEMI calculatorDealersExplore AutoAbout UsContact UsSITEMAPRSSTerms of UsePrivacy PolicyCopyright © HT Media Limited All rights reserved.HomeOffersnewFind carsFind bikesCompare carsCompare bikesEMI calculatorDeal...   \n",
       "28  Toyota Urban Cruiser Car Discount Offers in Kulgam for March 2022 Explore  Wednesday, 16 March 2022 Log in/Sign up SearchNotificationsTop SectionsAuto NewsCar NewsBike NewsLatestAuto NewsPhotosVideosElectric VehiclesTrendingMy ReadsOffersnewFind carsFind bikesCompare carsCompare bikesEMI calculatorDealersExplore AutoAbout UsContact UsSITEMAPRSSTerms of UsePrivacy PolicyCopyright © HT Media Limited All rights reserved.HomeOffersnewFind carsFind bikesCompare carsCompare bikesEMI calculatorDeal...   \n",
       "36  Toyota Urban Cruiser Car Discount Offers in Kulgam for March 2022 Explore  Wednesday, 16 March 2022 Log in/Sign up SearchNotificationsTop SectionsAuto NewsCar NewsBike NewsLatestAuto NewsPhotosVideosElectric VehiclesTrendingMy ReadsOffersnewFind carsFind bikesCompare carsCompare bikesEMI calculatorDealersExplore AutoAbout UsContact UsSITEMAPRSSTerms of UsePrivacy PolicyCopyright © HT Media Limited All rights reserved.HomeOffersnewFind carsFind bikesCompare carsCompare bikesEMI calculatorDeal...   \n",
       "44  Toyota Urban Cruiser Car Discount Offers in Khurda Andhra Pradesh for March 2022 Explore  Wednesday, 16 March 2022 Log in/Sign up SearchNotificationsTop SectionsAuto NewsCar NewsBike NewsLatestAuto NewsPhotosVideosElectric VehiclesTrendingMy ReadsOffersnewFind carsFind bikesCompare carsCompare bikesEMI calculatorDealersExplore AutoAbout UsContact UsSITEMAPRSSTerms of UsePrivacy PolicyCopyright © HT Media Limited All rights reserved.HomeOffersnewFind carsFind bikesCompare carsCompare bikesEMI...   \n",
       "45  Porsche Cayenne Coupe Car Discount Offers in Jamshedpur for March 2022 Explore  Wednesday, 16 March 2022 Log in/Sign up SearchNotificationsTop SectionsAuto NewsCar NewsBike NewsLatestAuto NewsPhotosVideosElectric VehiclesTrendingMy ReadsOffersnewFind carsFind bikesCompare carsCompare bikesEMI calculatorDealersExplore AutoAbout UsContact UsSITEMAPRSSTerms of UsePrivacy PolicyCopyright © HT Media Limited All rights reserved.HomeOffersnewFind carsFind bikesCompare carsCompare bikesEMI calculato...   \n",
       "46     White grizzly bear spotted in Banff National Park | CTV News             Skip to Main ContentSkip to Section LinksCTV NewsMobileCTV Live Now:                                      CTV News ChannelTRENDING CoronavirusRussia-UkraineSwedenSearchSearch CTV NewsX                                   NEWS                                                                  VIDEO                                                                  LOCAL                                                       ...   \n",
       "47  Porsche Cayenne Car Discount Offers in Ahmedabad for March 2022 Explore  Wednesday, 16 March 2022 Log in/Sign up SearchNotificationsTop SectionsAuto NewsCar NewsBike NewsLatestAuto NewsPhotosVideosElectric VehiclesTrendingMy ReadsOffersnewFind carsFind bikesCompare carsCompare bikesEMI calculatorDealersExplore AutoAbout UsContact UsSITEMAPRSSTerms of UsePrivacy PolicyCopyright © HT Media Limited All rights reserved.HomeOffersnewFind carsFind bikesCompare carsCompare bikesEMI calculatorDealer...   \n",
       "48  Toyota Urban Cruiser Car Discount Offers in Noorpur for March 2022 Explore  Wednesday, 16 March 2022 Log in/Sign up SearchNotificationsTop SectionsAuto NewsCar NewsBike NewsLatestAuto NewsPhotosVideosElectric VehiclesTrendingMy ReadsOffersnewFind carsFind bikesCompare carsCompare bikesEMI calculatorDealersExplore AutoAbout UsContact UsSITEMAPRSSTerms of UsePrivacy PolicyCopyright © HT Media Limited All rights reserved.HomeOffersnewFind carsFind bikesCompare carsCompare bikesEMI calculatorDea...   \n",
       "51  Toyota Urban Cruiser Car Discount Offers in Nandurbar for March 2022 Explore  Wednesday, 16 March 2022 Log in/Sign up SearchNotificationsTop SectionsAuto NewsCar NewsBike NewsLatestAuto NewsPhotosVideosElectric VehiclesTrendingMy ReadsOffersnewFind carsFind bikesCompare carsCompare bikesEMI calculatorDealersExplore AutoAbout UsContact UsSITEMAPRSSTerms of UsePrivacy PolicyCopyright © HT Media Limited All rights reserved.HomeOffersnewFind carsFind bikesCompare carsCompare bikesEMI calculatorD...   \n",
       "57  Mahindra Bolero Neo Car Discount Offers in Tirap for March 2022 Explore  Tuesday, 15 March 2022 Log in/Sign up SearchNotificationsTop SectionsAuto NewsCar NewsBike NewsLatestAuto NewsPhotosVideosElectric VehiclesTrendingMy ReadsOffersnewFind carsFind bikesCompare carsCompare bikesEMI calculatorDealersExplore AutoAbout UsContact UsSITEMAPRSSTerms of UsePrivacy PolicyCopyright © HT Media Limited All rights reserved.HomeOffersnewFind carsFind bikesCompare carsCompare bikesEMI calculatorDealersC...   \n",
       "\n",
       "                                                                                                                                                                                                                                                                                                                                                                                                                                                                                                                  Pair2  \\\n",
       "0   Toyota Urban Cruiser Car Discount Offers in Kandhamal for March 2022 Explore  Wednesday, 16 March 2022 Log in/Sign up SearchNotificationsTop SectionsAuto NewsCar NewsBike NewsLatestAuto NewsPhotosVideosElectric VehiclesTrendingMy ReadsOffersnewFind carsFind bikesCompare carsCompare bikesEMI calculatorDealersExplore AutoAbout UsContact UsSITEMAPRSSTerms of UsePrivacy PolicyCopyright © HT Media Limited All rights reserved.HomeOffersnewFind carsFind bikesCompare carsCompare bikesEMI calculatorD...   \n",
       "28  Toyota Urban Cruiser Car Discount Offers in Jajpur Road for March 2022 Explore  Wednesday, 16 March 2022 Log in/Sign up SearchNotificationsTop SectionsAuto NewsCar NewsBike NewsLatestAuto NewsPhotosVideosElectric VehiclesTrendingMy ReadsOffersnewFind carsFind bikesCompare carsCompare bikesEMI calculatorDealersExplore AutoAbout UsContact UsSITEMAPRSSTerms of UsePrivacy PolicyCopyright © HT Media Limited All rights reserved.HomeOffersnewFind carsFind bikesCompare carsCompare bikesEMI calculato...   \n",
       "36  Toyota Urban Cruiser Car Discount Offers in Khurda Andhra Pradesh for March 2022 Explore  Wednesday, 16 March 2022 Log in/Sign up SearchNotificationsTop SectionsAuto NewsCar NewsBike NewsLatestAuto NewsPhotosVideosElectric VehiclesTrendingMy ReadsOffersnewFind carsFind bikesCompare carsCompare bikesEMI calculatorDealersExplore AutoAbout UsContact UsSITEMAPRSSTerms of UsePrivacy PolicyCopyright © HT Media Limited All rights reserved.HomeOffersnewFind carsFind bikesCompare carsCompare bikesEMI...   \n",
       "44  Toyota Urban Cruiser Car Discount Offers in Jajpur Road for March 2022 Explore  Wednesday, 16 March 2022 Log in/Sign up SearchNotificationsTop SectionsAuto NewsCar NewsBike NewsLatestAuto NewsPhotosVideosElectric VehiclesTrendingMy ReadsOffersnewFind carsFind bikesCompare carsCompare bikesEMI calculatorDealersExplore AutoAbout UsContact UsSITEMAPRSSTerms of UsePrivacy PolicyCopyright © HT Media Limited All rights reserved.HomeOffersnewFind carsFind bikesCompare carsCompare bikesEMI calculato...   \n",
       "45  Porsche Cayenne Car Discount Offers in Jamshedpur for March 2022 Explore  Wednesday, 16 March 2022 Log in/Sign up SearchNotificationsTop SectionsAuto NewsCar NewsBike NewsLatestAuto NewsPhotosVideosElectric VehiclesTrendingMy ReadsOffersnewFind carsFind bikesCompare carsCompare bikesEMI calculatorDealersExplore AutoAbout UsContact UsSITEMAPRSSTerms of UsePrivacy PolicyCopyright © HT Media Limited All rights reserved.HomeOffersnewFind carsFind bikesCompare carsCompare bikesEMI calculatorDeale...   \n",
       "46     Mexico-U.S. cross-border tunnel discovered | CTV News             Skip to Main ContentSkip to Section LinksCTV NewsMobileCTV Live Now:                                      CTV News ChannelTRENDING CoronavirusRussia-UkraineSwedenSearchSearch CTV NewsX                                   NEWS                                                                  VIDEO                                                                  LOCAL                                                              ...   \n",
       "47  Audi A8 L Car Discount Offers in Ahmedabad for March 2022 Explore  Sunday, 13 March 2022 Log in/Sign up SearchNotificationsTop SectionsAuto NewsCar NewsBike NewsLatestAuto NewsPhotosVideosElectric VehiclesTrendingMy ReadsOffersnewFind carsFind bikesCompare carsCompare bikesEMI calculatorDealersExplore AutoAbout UsContact UsSITEMAPRSSTerms of UsePrivacy PolicyCopyright © HT Media Limited All rights reserved.HomeOffersnewFind carsFind bikesCompare carsCompare bikesEMI calculatorDealersCar News...   \n",
       "48  Toyota Urban Cruiser Car Discount Offers in Hardoi for March 2022 Explore  Wednesday, 16 March 2022 Log in/Sign up SearchNotificationsTop SectionsAuto NewsCar NewsBike NewsLatestAuto NewsPhotosVideosElectric VehiclesTrendingMy ReadsOffersnewFind carsFind bikesCompare carsCompare bikesEMI calculatorDealersExplore AutoAbout UsContact UsSITEMAPRSSTerms of UsePrivacy PolicyCopyright © HT Media Limited All rights reserved.HomeOffersnewFind carsFind bikesCompare carsCompare bikesEMI calculatorDeal...   \n",
       "51  Toyota Urban Cruiser Car Discount Offers in Malsiras for March 2022 Explore  Wednesday, 16 March 2022 Log in/Sign up SearchNotificationsTop SectionsAuto NewsCar NewsBike NewsLatestAuto NewsPhotosVideosElectric VehiclesTrendingMy ReadsOffersnewFind carsFind bikesCompare carsCompare bikesEMI calculatorDealersExplore AutoAbout UsContact UsSITEMAPRSSTerms of UsePrivacy PolicyCopyright © HT Media Limited All rights reserved.HomeOffersnewFind carsFind bikesCompare carsCompare bikesEMI calculatorDe...   \n",
       "57  Mahindra Bolero Neo Car Discount Offers in Sundergarh for March 2022 Explore  Tuesday, 15 March 2022 Log in/Sign up SearchNotificationsTop SectionsAuto NewsCar NewsBike NewsLatestAuto NewsPhotosVideosElectric VehiclesTrendingMy ReadsOffersnewFind carsFind bikesCompare carsCompare bikesEMI calculatorDealersExplore AutoAbout UsContact UsSITEMAPRSSTerms of UsePrivacy PolicyCopyright © HT Media Limited All rights reserved.HomeOffersnewFind carsFind bikesCompare carsCompare bikesEMI calculatorDea...   \n",
       "\n",
       "    Jaccard_Distance  \n",
       "0           0.013456  \n",
       "28          0.014661  \n",
       "36          0.015863  \n",
       "44          0.017063  \n",
       "45          0.018135  \n",
       "46          0.019108  \n",
       "47          0.032333  \n",
       "48          0.040665  \n",
       "51          0.048035  \n",
       "57          0.053452  "
      ]
     },
     "execution_count": 111,
     "metadata": {},
     "output_type": "execute_result"
    }
   ],
   "source": [
    "# write a for loop, if the Jaccard Distance of previous row is equal to the current row, then drop the current row. store the result in a new dataframe\n",
    "\n",
    "similar_df_newstext_show = similar_df_newstext.copy()\n",
    "for i in range(1, len(similar_df_newstext)):\n",
    "    if similar_df_newstext.iloc[i, 2] == similar_df_newstext.iloc[i-1, 2]:\n",
    "        similar_df_newstext_show.drop([i], inplace=True)    \n",
    "\n",
    "similar_df_newstext_show.head(10)\n"
   ]
  },
  {
   "attachments": {},
   "cell_type": "markdown",
   "metadata": {},
   "source": [
    "Dissimilar Nes Text: "
   ]
  },
  {
   "cell_type": "code",
   "execution_count": 101,
   "metadata": {},
   "outputs": [
    {
     "data": {
      "text/html": [
       "<div>\n",
       "<style scoped>\n",
       "    .dataframe tbody tr th:only-of-type {\n",
       "        vertical-align: middle;\n",
       "    }\n",
       "\n",
       "    .dataframe tbody tr th {\n",
       "        vertical-align: top;\n",
       "    }\n",
       "\n",
       "    .dataframe thead th {\n",
       "        text-align: right;\n",
       "    }\n",
       "</style>\n",
       "<table border=\"1\" class=\"dataframe\">\n",
       "  <thead>\n",
       "    <tr style=\"text-align: right;\">\n",
       "      <th></th>\n",
       "      <th>Pair1</th>\n",
       "      <th>Pair2</th>\n",
       "      <th>Jaccard_Distance</th>\n",
       "    </tr>\n",
       "  </thead>\n",
       "  <tbody>\n",
       "    <tr>\n",
       "      <th>387849</th>\n",
       "      <td>BMW M3 vs Audi RS3: 4WD sports saloons face off | Autocar Car ReviewsLatest car reviewsIn-depth road test reviewsFirst drive reviewsLong-term reviewsTop 10s: Best Cars on saleVideo reviewsCar NewsLatest newsAdviceOpinionsFeaturesUsed carsUsed car homeUsed car dealsNearly new buying guidesUsed car buying guidesElectricMotorsportBusinessLatest Business newsWebinars and podcasts OffersGap InsuranceWarrantyLeasingSell your carSubscribeSubscribe to magazineAutocar NewsletterAutocar Archive…Car Re...</td>\n",
       "      <td>Toyota GR Series: bred on-track; designed to be driven | Autocar Car ReviewsLatest car reviewsIn-depth road test reviewsFirst drive reviewsLong-term reviewsTop 10s: Best Cars on saleVideo reviewsCar NewsLatest newsAdviceOpinionsFeaturesUsed carsUsed car homeUsed car dealsNearly new buying guidesUsed car buying guidesElectricMotorsportBusinessLatest Business newsWebinars and podcasts Great Women Top 100Company carsCompany car tax calculatorCompany car adviceOffersGap InsuranceWarrantyWhat Car...</td>\n",
       "      <td>0.949670</td>\n",
       "    </tr>\n",
       "    <tr>\n",
       "      <th>397839</th>\n",
       "      <td>Audi Car Dealers - Audi Showrooms in India Explore  Friday, 21 January 2022 Log in/Sign up SearchNotificationsTop SectionsAuto NewsCar NewsBike NewsLatestAuto NewsPhotosVideosElectric VehiclesTrendingMy ReadsOffersnewFind carsFind bikesCompare carsCompare bikesEMI calculatorDealersExplore AutoAbout UsContact UsSITEMAPRSSTerms of UsePrivacy PolicyCopyright © HT Media Limited All rights reserved.HomeOffersnewFind carsFind bikesCompare carsCompare bikesEMI calculatorDealersCar NewsBike NewsLate...</td>\n",
       "      <td>Toyota Urban Cruiser Car Discount Offers in Mahrajganj for March 2022 Explore  Wednesday, 16 March 2022 Log in/Sign up SearchNotificationsTop SectionsAuto NewsCar NewsBike NewsLatestAuto NewsPhotosVideosElectric VehiclesTrendingMy ReadsOffersnewFind carsFind bikesCompare carsCompare bikesEMI calculatorDealersExplore AutoAbout UsContact UsSITEMAPRSSTerms of UsePrivacy PolicyCopyright © HT Media Limited All rights reserved.HomeOffersnewFind carsFind bikesCompare carsCompare bikesEMI calculator...</td>\n",
       "      <td>0.883333</td>\n",
       "    </tr>\n",
       "    <tr>\n",
       "      <th>407839</th>\n",
       "      <td>Honda Bikes Car Dealers - Honda Bikes Showrooms in India Explore  Saturday, 8 January 2022 Log in/Sign up SearchNotificationsTop SectionsAuto NewsCar NewsBike NewsLatestAuto NewsPhotosVideosElectric VehiclesTrendingMy ReadsOffersnewFind carsFind bikesCompare carsCompare bikesEMI calculatorDealersExplore AutoAbout UsContact UsSITEMAPRSSTerms of UsePrivacy PolicyCopyright © HT Media Limited All rights reserved.HomeOffersnewFind carsFind bikesCompare carsCompare bikesEMI calculatorDealersCar Ne...</td>\n",
       "      <td>Toyota Urban Cruiser Car Discount Offers in Gopalganj for March 2022 Explore  Wednesday, 16 March 2022 Log in/Sign up SearchNotificationsTop SectionsAuto NewsCar NewsBike NewsLatestAuto NewsPhotosVideosElectric VehiclesTrendingMy ReadsOffersnewFind carsFind bikesCompare carsCompare bikesEMI calculatorDealersExplore AutoAbout UsContact UsSITEMAPRSSTerms of UsePrivacy PolicyCopyright © HT Media Limited All rights reserved.HomeOffersnewFind carsFind bikesCompare carsCompare bikesEMI calculatorD...</td>\n",
       "      <td>0.801262</td>\n",
       "    </tr>\n",
       "  </tbody>\n",
       "</table>\n",
       "</div>"
      ],
      "text/plain": [
       "                                                                                                                                                                                                                                                                                                                                                                                                                                                                                                                      Pair1  \\\n",
       "387849  BMW M3 vs Audi RS3: 4WD sports saloons face off | Autocar Car ReviewsLatest car reviewsIn-depth road test reviewsFirst drive reviewsLong-term reviewsTop 10s: Best Cars on saleVideo reviewsCar NewsLatest newsAdviceOpinionsFeaturesUsed carsUsed car homeUsed car dealsNearly new buying guidesUsed car buying guidesElectricMotorsportBusinessLatest Business newsWebinars and podcasts OffersGap InsuranceWarrantyLeasingSell your carSubscribeSubscribe to magazineAutocar NewsletterAutocar Archive…Car Re...   \n",
       "397839  Audi Car Dealers - Audi Showrooms in India Explore  Friday, 21 January 2022 Log in/Sign up SearchNotificationsTop SectionsAuto NewsCar NewsBike NewsLatestAuto NewsPhotosVideosElectric VehiclesTrendingMy ReadsOffersnewFind carsFind bikesCompare carsCompare bikesEMI calculatorDealersExplore AutoAbout UsContact UsSITEMAPRSSTerms of UsePrivacy PolicyCopyright © HT Media Limited All rights reserved.HomeOffersnewFind carsFind bikesCompare carsCompare bikesEMI calculatorDealersCar NewsBike NewsLate...   \n",
       "407839  Honda Bikes Car Dealers - Honda Bikes Showrooms in India Explore  Saturday, 8 January 2022 Log in/Sign up SearchNotificationsTop SectionsAuto NewsCar NewsBike NewsLatestAuto NewsPhotosVideosElectric VehiclesTrendingMy ReadsOffersnewFind carsFind bikesCompare carsCompare bikesEMI calculatorDealersExplore AutoAbout UsContact UsSITEMAPRSSTerms of UsePrivacy PolicyCopyright © HT Media Limited All rights reserved.HomeOffersnewFind carsFind bikesCompare carsCompare bikesEMI calculatorDealersCar Ne...   \n",
       "\n",
       "                                                                                                                                                                                                                                                                                                                                                                                                                                                                                                                      Pair2  \\\n",
       "387849  Toyota GR Series: bred on-track; designed to be driven | Autocar Car ReviewsLatest car reviewsIn-depth road test reviewsFirst drive reviewsLong-term reviewsTop 10s: Best Cars on saleVideo reviewsCar NewsLatest newsAdviceOpinionsFeaturesUsed carsUsed car homeUsed car dealsNearly new buying guidesUsed car buying guidesElectricMotorsportBusinessLatest Business newsWebinars and podcasts Great Women Top 100Company carsCompany car tax calculatorCompany car adviceOffersGap InsuranceWarrantyWhat Car...   \n",
       "397839  Toyota Urban Cruiser Car Discount Offers in Mahrajganj for March 2022 Explore  Wednesday, 16 March 2022 Log in/Sign up SearchNotificationsTop SectionsAuto NewsCar NewsBike NewsLatestAuto NewsPhotosVideosElectric VehiclesTrendingMy ReadsOffersnewFind carsFind bikesCompare carsCompare bikesEMI calculatorDealersExplore AutoAbout UsContact UsSITEMAPRSSTerms of UsePrivacy PolicyCopyright © HT Media Limited All rights reserved.HomeOffersnewFind carsFind bikesCompare carsCompare bikesEMI calculator...   \n",
       "407839  Toyota Urban Cruiser Car Discount Offers in Gopalganj for March 2022 Explore  Wednesday, 16 March 2022 Log in/Sign up SearchNotificationsTop SectionsAuto NewsCar NewsBike NewsLatestAuto NewsPhotosVideosElectric VehiclesTrendingMy ReadsOffersnewFind carsFind bikesCompare carsCompare bikesEMI calculatorDealersExplore AutoAbout UsContact UsSITEMAPRSSTerms of UsePrivacy PolicyCopyright © HT Media Limited All rights reserved.HomeOffersnewFind carsFind bikesCompare carsCompare bikesEMI calculatorD...   \n",
       "\n",
       "        Jaccard_Distance  \n",
       "387849          0.949670  \n",
       "397839          0.883333  \n",
       "407839          0.801262  "
      ]
     },
     "execution_count": 101,
     "metadata": {},
     "output_type": "execute_result"
    }
   ],
   "source": [
    "# filter the dissimilar_df_newstext dataframe delete the rows where Jaccard Distance is greater than 0.95, store the result in a new dataframe\n",
    "\n",
    "dissimilar_df_newstext_show = dissimilar_df_newstext[dissimilar_df_newstext['Jaccard_Distance'] <= 0.95]\n",
    "dissimilar_df_newstext_show.iloc[[10,10000,20000]]"
   ]
  },
  {
   "attachments": {},
   "cell_type": "markdown",
   "metadata": {},
   "source": [
    "For News Text, As we can see from the above table, the output shows a clear and obvious conclusion that when n=4, using the techques of jaccard distance and n-gram has a good ability in identifying the similar text\n",
    "\n",
    "The reason that I choose text to analyze similarity instead of title is because the title is the extracted and summarized version of text. The text has already contains all the neccessary information for title.\n",
    "\n"
   ]
  },
  {
   "attachments": {},
   "cell_type": "markdown",
   "metadata": {},
   "source": [
    "#### In Summary, I choose n=2 for Tweets text and n=4 for News text so that I can better indentify the similarity between different texts."
   ]
  }
 ],
 "metadata": {
  "kernelspec": {
   "display_name": "Python 3 (ipykernel)",
   "language": "python",
   "name": "python3"
  },
  "language_info": {
   "codemirror_mode": {
    "name": "ipython",
    "version": 3
   },
   "file_extension": ".py",
   "mimetype": "text/x-python",
   "name": "python",
   "nbconvert_exporter": "python",
   "pygments_lexer": "ipython3",
   "version": "3.9.2"
  }
 },
 "nbformat": 4,
 "nbformat_minor": 4
}
